{
 "cells": [
  {
   "cell_type": "markdown",
   "id": "17c3b310-318c-456a-8b15-fea76a6b0e90",
   "metadata": {},
   "source": [
    "# "
   ]
  },
  {
   "cell_type": "code",
   "execution_count": 1,
   "id": "3801d636-8ae9-4c08-90af-c2a6d2e7aa8b",
   "metadata": {},
   "outputs": [],
   "source": [
    "import streamlit as st\n",
    "import pandas as pd\n",
    "import altair as alt\n",
    "import plotly.express as px"
   ]
  },
  {
   "cell_type": "code",
   "execution_count": 19,
   "id": "cd05b146-a9c6-4877-aa5a-f9aae9135132",
   "metadata": {},
   "outputs": [],
   "source": [
    "df_reshaped = pd.read_csv('us-population-2010-2019-reshaped.csv')"
   ]
  },
  {
   "cell_type": "code",
   "execution_count": 21,
   "id": "45e4cddd-5687-4185-a109-f2e43d96c575",
   "metadata": {},
   "outputs": [
    {
     "data": {
      "text/html": [
       "<div>\n",
       "<style scoped>\n",
       "    .dataframe tbody tr th:only-of-type {\n",
       "        vertical-align: middle;\n",
       "    }\n",
       "\n",
       "    .dataframe tbody tr th {\n",
       "        vertical-align: top;\n",
       "    }\n",
       "\n",
       "    .dataframe thead th {\n",
       "        text-align: right;\n",
       "    }\n",
       "</style>\n",
       "<table border=\"1\" class=\"dataframe\">\n",
       "  <thead>\n",
       "    <tr style=\"text-align: right;\">\n",
       "      <th></th>\n",
       "      <th>Unnamed: 0</th>\n",
       "      <th>states</th>\n",
       "      <th>states_code</th>\n",
       "      <th>id</th>\n",
       "      <th>year</th>\n",
       "      <th>population</th>\n",
       "    </tr>\n",
       "  </thead>\n",
       "  <tbody>\n",
       "    <tr>\n",
       "      <th>0</th>\n",
       "      <td>0</td>\n",
       "      <td>Alabama</td>\n",
       "      <td>AL</td>\n",
       "      <td>1</td>\n",
       "      <td>2010</td>\n",
       "      <td>4785437</td>\n",
       "    </tr>\n",
       "    <tr>\n",
       "      <th>1</th>\n",
       "      <td>1</td>\n",
       "      <td>Alaska</td>\n",
       "      <td>AK</td>\n",
       "      <td>2</td>\n",
       "      <td>2010</td>\n",
       "      <td>713910</td>\n",
       "    </tr>\n",
       "    <tr>\n",
       "      <th>2</th>\n",
       "      <td>2</td>\n",
       "      <td>Arizona</td>\n",
       "      <td>AZ</td>\n",
       "      <td>4</td>\n",
       "      <td>2010</td>\n",
       "      <td>6407172</td>\n",
       "    </tr>\n",
       "    <tr>\n",
       "      <th>3</th>\n",
       "      <td>3</td>\n",
       "      <td>Arkansas</td>\n",
       "      <td>AR</td>\n",
       "      <td>5</td>\n",
       "      <td>2010</td>\n",
       "      <td>2921964</td>\n",
       "    </tr>\n",
       "    <tr>\n",
       "      <th>4</th>\n",
       "      <td>4</td>\n",
       "      <td>California</td>\n",
       "      <td>CA</td>\n",
       "      <td>6</td>\n",
       "      <td>2010</td>\n",
       "      <td>37319502</td>\n",
       "    </tr>\n",
       "    <tr>\n",
       "      <th>...</th>\n",
       "      <td>...</td>\n",
       "      <td>...</td>\n",
       "      <td>...</td>\n",
       "      <td>...</td>\n",
       "      <td>...</td>\n",
       "      <td>...</td>\n",
       "    </tr>\n",
       "    <tr>\n",
       "      <th>515</th>\n",
       "      <td>515</td>\n",
       "      <td>Washington</td>\n",
       "      <td>WA</td>\n",
       "      <td>53</td>\n",
       "      <td>2019</td>\n",
       "      <td>7614893</td>\n",
       "    </tr>\n",
       "    <tr>\n",
       "      <th>516</th>\n",
       "      <td>516</td>\n",
       "      <td>West Virginia</td>\n",
       "      <td>WV</td>\n",
       "      <td>54</td>\n",
       "      <td>2019</td>\n",
       "      <td>1792147</td>\n",
       "    </tr>\n",
       "    <tr>\n",
       "      <th>517</th>\n",
       "      <td>517</td>\n",
       "      <td>Wisconsin</td>\n",
       "      <td>WI</td>\n",
       "      <td>55</td>\n",
       "      <td>2019</td>\n",
       "      <td>5822434</td>\n",
       "    </tr>\n",
       "    <tr>\n",
       "      <th>518</th>\n",
       "      <td>518</td>\n",
       "      <td>Wyoming</td>\n",
       "      <td>WY</td>\n",
       "      <td>56</td>\n",
       "      <td>2019</td>\n",
       "      <td>578759</td>\n",
       "    </tr>\n",
       "    <tr>\n",
       "      <th>519</th>\n",
       "      <td>519</td>\n",
       "      <td>Puerto Rico</td>\n",
       "      <td>PR</td>\n",
       "      <td>72</td>\n",
       "      <td>2019</td>\n",
       "      <td>3193694</td>\n",
       "    </tr>\n",
       "  </tbody>\n",
       "</table>\n",
       "<p>520 rows × 6 columns</p>\n",
       "</div>"
      ],
      "text/plain": [
       "     Unnamed: 0         states states_code  id  year  population\n",
       "0             0        Alabama          AL   1  2010     4785437\n",
       "1             1         Alaska          AK   2  2010      713910\n",
       "2             2        Arizona          AZ   4  2010     6407172\n",
       "3             3       Arkansas          AR   5  2010     2921964\n",
       "4             4     California          CA   6  2010    37319502\n",
       "..          ...            ...         ...  ..   ...         ...\n",
       "515         515     Washington          WA  53  2019     7614893\n",
       "516         516  West Virginia          WV  54  2019     1792147\n",
       "517         517      Wisconsin          WI  55  2019     5822434\n",
       "518         518        Wyoming          WY  56  2019      578759\n",
       "519         519    Puerto Rico          PR  72  2019     3193694\n",
       "\n",
       "[520 rows x 6 columns]"
      ]
     },
     "execution_count": 21,
     "metadata": {},
     "output_type": "execute_result"
    }
   ],
   "source": [
    "df_reshaped"
   ]
  },
  {
   "cell_type": "code",
   "execution_count": 4,
   "id": "661d8b9a-433a-437b-b561-0bf62ea61499",
   "metadata": {},
   "outputs": [],
   "source": [
    "    def make_heatmap(input_df, input_y, input_x, input_color, input_color_theme):\n",
    "        heatmap = alt.Chart(input_df).mark_rect().encode(\n",
    "            y=alt.Y(f'{input_y}:O', axis=alt.Axis(title=\"Year\", titleFontSize=18, titlePadding=15, titleFontWeight=900, labelAngle=0)),\n",
    "            x=alt.X(f'{input_x}:O', axis=alt.Axis(title=\"\", titleFontSize=18, titlePadding=15, titleFontWeight=900)),\n",
    "            color=alt.Color(f'max({input_color}):Q',\n",
    "                             legend=None,\n",
    "                             scale=alt.Scale(scheme=input_color_theme)),\n",
    "            stroke=alt.value('black'),\n",
    "            strokeWidth=alt.value(0.25),\n",
    "        ).properties(width=900\n",
    "        ).configure_axis(\n",
    "        labelFontSize=12,\n",
    "        titleFontSize=12\n",
    "        ) \n",
    "        # height=300\n",
    "        return heatmap"
   ]
  },
  {
   "cell_type": "code",
   "execution_count": 7,
   "id": "132b1abe-2bb0-429b-843c-8281af90c310",
   "metadata": {},
   "outputs": [
    {
     "data": {
      "text/html": [
       "\n",
       "<style>\n",
       "  #altair-viz-dfbcbc186add488b8fa9d4967c5cbf3c.vega-embed {\n",
       "    width: 100%;\n",
       "    display: flex;\n",
       "  }\n",
       "\n",
       "  #altair-viz-dfbcbc186add488b8fa9d4967c5cbf3c.vega-embed details,\n",
       "  #altair-viz-dfbcbc186add488b8fa9d4967c5cbf3c.vega-embed details summary {\n",
       "    position: relative;\n",
       "  }\n",
       "</style>\n",
       "<div id=\"altair-viz-dfbcbc186add488b8fa9d4967c5cbf3c\"></div>\n",
       "<script type=\"text/javascript\">\n",
       "  var VEGA_DEBUG = (typeof VEGA_DEBUG == \"undefined\") ? {} : VEGA_DEBUG;\n",
       "  (function(spec, embedOpt){\n",
       "    let outputDiv = document.currentScript.previousElementSibling;\n",
       "    if (outputDiv.id !== \"altair-viz-dfbcbc186add488b8fa9d4967c5cbf3c\") {\n",
       "      outputDiv = document.getElementById(\"altair-viz-dfbcbc186add488b8fa9d4967c5cbf3c\");\n",
       "    }\n",
       "    const paths = {\n",
       "      \"vega\": \"https://cdn.jsdelivr.net/npm/vega@5?noext\",\n",
       "      \"vega-lib\": \"https://cdn.jsdelivr.net/npm/vega-lib?noext\",\n",
       "      \"vega-lite\": \"https://cdn.jsdelivr.net/npm/vega-lite@5.16.3?noext\",\n",
       "      \"vega-embed\": \"https://cdn.jsdelivr.net/npm/vega-embed@6?noext\",\n",
       "    };\n",
       "\n",
       "    function maybeLoadScript(lib, version) {\n",
       "      var key = `${lib.replace(\"-\", \"\")}_version`;\n",
       "      return (VEGA_DEBUG[key] == version) ?\n",
       "        Promise.resolve(paths[lib]) :\n",
       "        new Promise(function(resolve, reject) {\n",
       "          var s = document.createElement('script');\n",
       "          document.getElementsByTagName(\"head\")[0].appendChild(s);\n",
       "          s.async = true;\n",
       "          s.onload = () => {\n",
       "            VEGA_DEBUG[key] = version;\n",
       "            return resolve(paths[lib]);\n",
       "          };\n",
       "          s.onerror = () => reject(`Error loading script: ${paths[lib]}`);\n",
       "          s.src = paths[lib];\n",
       "        });\n",
       "    }\n",
       "\n",
       "    function showError(err) {\n",
       "      outputDiv.innerHTML = `<div class=\"error\" style=\"color:red;\">${err}</div>`;\n",
       "      throw err;\n",
       "    }\n",
       "\n",
       "    function displayChart(vegaEmbed) {\n",
       "      vegaEmbed(outputDiv, spec, embedOpt)\n",
       "        .catch(err => showError(`Javascript Error: ${err.message}<br>This usually means there's a typo in your chart specification. See the javascript console for the full traceback.`));\n",
       "    }\n",
       "\n",
       "    if(typeof define === \"function\" && define.amd) {\n",
       "      requirejs.config({paths});\n",
       "      require([\"vega-embed\"], displayChart, err => showError(`Error loading script: ${err.message}`));\n",
       "    } else {\n",
       "      maybeLoadScript(\"vega\", \"5\")\n",
       "        .then(() => maybeLoadScript(\"vega-lite\", \"5.16.3\"))\n",
       "        .then(() => maybeLoadScript(\"vega-embed\", \"6\"))\n",
       "        .catch(showError)\n",
       "        .then(() => displayChart(vegaEmbed));\n",
       "    }\n",
       "  })({\"config\": {\"view\": {\"continuousWidth\": 300, \"continuousHeight\": 300}, \"axis\": {\"labelFontSize\": 12, \"titleFontSize\": 12}}, \"data\": {\"name\": \"data-e5f4cbe83a57c145b59960675f135fc7\"}, \"mark\": {\"type\": \"rect\"}, \"encoding\": {\"color\": {\"aggregate\": \"max\", \"field\": \"population\", \"legend\": null, \"scale\": {\"scheme\": \"blues\"}, \"type\": \"quantitative\"}, \"stroke\": {\"value\": \"black\"}, \"strokeWidth\": {\"value\": 0.25}, \"x\": {\"axis\": {\"title\": \"\", \"titleFontSize\": 18, \"titleFontWeight\": 900, \"titlePadding\": 15}, \"field\": \"states\", \"type\": \"ordinal\"}, \"y\": {\"axis\": {\"labelAngle\": 0, \"title\": \"Year\", \"titleFontSize\": 18, \"titleFontWeight\": 900, \"titlePadding\": 15}, \"field\": \"year\", \"type\": \"ordinal\"}}, \"width\": 900, \"$schema\": \"https://vega.github.io/schema/vega-lite/v5.16.3.json\", \"datasets\": {\"data-e5f4cbe83a57c145b59960675f135fc7\": [{\"Unnamed: 0\": 0, \"states\": \"Alabama\", \"states_code\": \"AL\", \"id\": 1, \"year\": 2010, \"population\": 4785437}, {\"Unnamed: 0\": 1, \"states\": \"Alaska\", \"states_code\": \"AK\", \"id\": 2, \"year\": 2010, \"population\": 713910}, {\"Unnamed: 0\": 2, \"states\": \"Arizona\", \"states_code\": \"AZ\", \"id\": 4, \"year\": 2010, \"population\": 6407172}, {\"Unnamed: 0\": 3, \"states\": \"Arkansas\", \"states_code\": \"AR\", \"id\": 5, \"year\": 2010, \"population\": 2921964}, {\"Unnamed: 0\": 4, \"states\": \"California\", \"states_code\": \"CA\", \"id\": 6, \"year\": 2010, \"population\": 37319502}, {\"Unnamed: 0\": 5, \"states\": \"Colorado\", \"states_code\": \"CO\", \"id\": 8, \"year\": 2010, \"population\": 5047349}, {\"Unnamed: 0\": 6, \"states\": \"Connecticut\", \"states_code\": \"CT\", \"id\": 9, \"year\": 2010, \"population\": 3579114}, {\"Unnamed: 0\": 7, \"states\": \"Delaware\", \"states_code\": \"DE\", \"id\": 10, \"year\": 2010, \"population\": 899593}, {\"Unnamed: 0\": 8, \"states\": \"District of Columbia\", \"states_code\": \"DC\", \"id\": 11, \"year\": 2010, \"population\": 605226}, {\"Unnamed: 0\": 9, \"states\": \"Florida\", \"states_code\": \"FL\", \"id\": 12, \"year\": 2010, \"population\": 18845537}, {\"Unnamed: 0\": 10, \"states\": \"Georgia\", \"states_code\": \"GA\", \"id\": 13, \"year\": 2010, \"population\": 9711881}, {\"Unnamed: 0\": 11, \"states\": \"Hawaii\", \"states_code\": \"HI\", \"id\": 15, \"year\": 2010, \"population\": 1363963}, {\"Unnamed: 0\": 12, \"states\": \"Idaho\", \"states_code\": \"ID\", \"id\": 16, \"year\": 2010, \"population\": 1570746}, {\"Unnamed: 0\": 13, \"states\": \"Illinois\", \"states_code\": \"IL\", \"id\": 17, \"year\": 2010, \"population\": 12840503}, {\"Unnamed: 0\": 14, \"states\": \"Indiana\", \"states_code\": \"IN\", \"id\": 18, \"year\": 2010, \"population\": 6490432}, {\"Unnamed: 0\": 15, \"states\": \"Iowa\", \"states_code\": \"IA\", \"id\": 19, \"year\": 2010, \"population\": 3050745}, {\"Unnamed: 0\": 16, \"states\": \"Kansas\", \"states_code\": \"KS\", \"id\": 20, \"year\": 2010, \"population\": 2858190}, {\"Unnamed: 0\": 17, \"states\": \"Kentucky\", \"states_code\": \"KY\", \"id\": 21, \"year\": 2010, \"population\": 4348181}, {\"Unnamed: 0\": 18, \"states\": \"Louisiana\", \"states_code\": \"LA\", \"id\": 22, \"year\": 2010, \"population\": 4544532}, {\"Unnamed: 0\": 19, \"states\": \"Maine\", \"states_code\": \"ME\", \"id\": 23, \"year\": 2010, \"population\": 1327629}, {\"Unnamed: 0\": 20, \"states\": \"Maryland\", \"states_code\": \"MD\", \"id\": 24, \"year\": 2010, \"population\": 5788645}, {\"Unnamed: 0\": 21, \"states\": \"Massachusetts\", \"states_code\": \"MA\", \"id\": 25, \"year\": 2010, \"population\": 6566307}, {\"Unnamed: 0\": 22, \"states\": \"Michigan\", \"states_code\": \"MI\", \"id\": 26, \"year\": 2010, \"population\": 9877510}, {\"Unnamed: 0\": 23, \"states\": \"Minnesota\", \"states_code\": \"MN\", \"id\": 27, \"year\": 2010, \"population\": 5310828}, {\"Unnamed: 0\": 24, \"states\": \"Mississippi\", \"states_code\": \"MS\", \"id\": 28, \"year\": 2010, \"population\": 2970548}, {\"Unnamed: 0\": 25, \"states\": \"Missouri\", \"states_code\": \"MO\", \"id\": 29, \"year\": 2010, \"population\": 5995974}, {\"Unnamed: 0\": 26, \"states\": \"Montana\", \"states_code\": \"MT\", \"id\": 30, \"year\": 2010, \"population\": 990697}, {\"Unnamed: 0\": 27, \"states\": \"Nebraska\", \"states_code\": \"NE\", \"id\": 31, \"year\": 2010, \"population\": 1829542}, {\"Unnamed: 0\": 28, \"states\": \"Nevada\", \"states_code\": \"NV\", \"id\": 32, \"year\": 2010, \"population\": 2702405}, {\"Unnamed: 0\": 29, \"states\": \"New Hampshire\", \"states_code\": \"NH\", \"id\": 33, \"year\": 2010, \"population\": 1316762}, {\"Unnamed: 0\": 30, \"states\": \"New Jersey\", \"states_code\": \"NJ\", \"id\": 34, \"year\": 2010, \"population\": 8799446}, {\"Unnamed: 0\": 31, \"states\": \"New Mexico\", \"states_code\": \"NM\", \"id\": 35, \"year\": 2010, \"population\": 2064552}, {\"Unnamed: 0\": 32, \"states\": \"New York\", \"states_code\": \"NY\", \"id\": 36, \"year\": 2010, \"population\": 19399878}, {\"Unnamed: 0\": 33, \"states\": \"North Carolina\", \"states_code\": \"NC\", \"id\": 37, \"year\": 2010, \"population\": 9574323}, {\"Unnamed: 0\": 34, \"states\": \"North Dakota\", \"states_code\": \"ND\", \"id\": 38, \"year\": 2010, \"population\": 674715}, {\"Unnamed: 0\": 35, \"states\": \"Ohio\", \"states_code\": \"OH\", \"id\": 39, \"year\": 2010, \"population\": 11539336}, {\"Unnamed: 0\": 36, \"states\": \"Oklahoma\", \"states_code\": \"OK\", \"id\": 40, \"year\": 2010, \"population\": 3759944}, {\"Unnamed: 0\": 37, \"states\": \"Oregon\", \"states_code\": \"OR\", \"id\": 41, \"year\": 2010, \"population\": 3837491}, {\"Unnamed: 0\": 38, \"states\": \"Pennsylvania\", \"states_code\": \"PA\", \"id\": 42, \"year\": 2010, \"population\": 12711160}, {\"Unnamed: 0\": 39, \"states\": \"Rhode Island\", \"states_code\": \"RI\", \"id\": 44, \"year\": 2010, \"population\": 1053959}, {\"Unnamed: 0\": 40, \"states\": \"South Carolina\", \"states_code\": \"SC\", \"id\": 45, \"year\": 2010, \"population\": 4635649}, {\"Unnamed: 0\": 41, \"states\": \"South Dakota\", \"states_code\": \"SD\", \"id\": 46, \"year\": 2010, \"population\": 816166}, {\"Unnamed: 0\": 42, \"states\": \"Tennessee\", \"states_code\": \"TN\", \"id\": 47, \"year\": 2010, \"population\": 6355311}, {\"Unnamed: 0\": 43, \"states\": \"Texas\", \"states_code\": \"TX\", \"id\": 48, \"year\": 2010, \"population\": 25241971}, {\"Unnamed: 0\": 44, \"states\": \"Utah\", \"states_code\": \"UT\", \"id\": 49, \"year\": 2010, \"population\": 2775332}, {\"Unnamed: 0\": 45, \"states\": \"Vermont\", \"states_code\": \"VT\", \"id\": 50, \"year\": 2010, \"population\": 625879}, {\"Unnamed: 0\": 46, \"states\": \"Virginia\", \"states_code\": \"VA\", \"id\": 51, \"year\": 2010, \"population\": 8023699}, {\"Unnamed: 0\": 47, \"states\": \"Washington\", \"states_code\": \"WA\", \"id\": 53, \"year\": 2010, \"population\": 6742830}, {\"Unnamed: 0\": 48, \"states\": \"West Virginia\", \"states_code\": \"WV\", \"id\": 54, \"year\": 2010, \"population\": 1854239}, {\"Unnamed: 0\": 49, \"states\": \"Wisconsin\", \"states_code\": \"WI\", \"id\": 55, \"year\": 2010, \"population\": 5690475}, {\"Unnamed: 0\": 50, \"states\": \"Wyoming\", \"states_code\": \"WY\", \"id\": 56, \"year\": 2010, \"population\": 564487}, {\"Unnamed: 0\": 51, \"states\": \"Puerto Rico\", \"states_code\": \"PR\", \"id\": 72, \"year\": 2010, \"population\": 3721525}, {\"Unnamed: 0\": 52, \"states\": \"Alabama\", \"states_code\": \"AL\", \"id\": 1, \"year\": 2011, \"population\": 4799069}, {\"Unnamed: 0\": 53, \"states\": \"Alaska\", \"states_code\": \"AK\", \"id\": 2, \"year\": 2011, \"population\": 722128}, {\"Unnamed: 0\": 54, \"states\": \"Arizona\", \"states_code\": \"AZ\", \"id\": 4, \"year\": 2011, \"population\": 6472643}, {\"Unnamed: 0\": 55, \"states\": \"Arkansas\", \"states_code\": \"AR\", \"id\": 5, \"year\": 2011, \"population\": 2940667}, {\"Unnamed: 0\": 56, \"states\": \"California\", \"states_code\": \"CA\", \"id\": 6, \"year\": 2011, \"population\": 37638369}, {\"Unnamed: 0\": 57, \"states\": \"Colorado\", \"states_code\": \"CO\", \"id\": 8, \"year\": 2011, \"population\": 5121108}, {\"Unnamed: 0\": 58, \"states\": \"Connecticut\", \"states_code\": \"CT\", \"id\": 9, \"year\": 2011, \"population\": 3588283}, {\"Unnamed: 0\": 59, \"states\": \"Delaware\", \"states_code\": \"DE\", \"id\": 10, \"year\": 2011, \"population\": 907381}, {\"Unnamed: 0\": 60, \"states\": \"District of Columbia\", \"states_code\": \"DC\", \"id\": 11, \"year\": 2011, \"population\": 619800}, {\"Unnamed: 0\": 61, \"states\": \"Florida\", \"states_code\": \"FL\", \"id\": 12, \"year\": 2011, \"population\": 19053237}, {\"Unnamed: 0\": 62, \"states\": \"Georgia\", \"states_code\": \"GA\", \"id\": 13, \"year\": 2011, \"population\": 9802431}, {\"Unnamed: 0\": 63, \"states\": \"Hawaii\", \"states_code\": \"HI\", \"id\": 15, \"year\": 2011, \"population\": 1379329}, {\"Unnamed: 0\": 64, \"states\": \"Idaho\", \"states_code\": \"ID\", \"id\": 16, \"year\": 2011, \"population\": 1583910}, {\"Unnamed: 0\": 65, \"states\": \"Illinois\", \"states_code\": \"IL\", \"id\": 17, \"year\": 2011, \"population\": 12867454}, {\"Unnamed: 0\": 66, \"states\": \"Indiana\", \"states_code\": \"IN\", \"id\": 18, \"year\": 2011, \"population\": 6516528}, {\"Unnamed: 0\": 67, \"states\": \"Iowa\", \"states_code\": \"IA\", \"id\": 19, \"year\": 2011, \"population\": 3066336}, {\"Unnamed: 0\": 68, \"states\": \"Kansas\", \"states_code\": \"KS\", \"id\": 20, \"year\": 2011, \"population\": 2869225}, {\"Unnamed: 0\": 69, \"states\": \"Kentucky\", \"states_code\": \"KY\", \"id\": 21, \"year\": 2011, \"population\": 4369821}, {\"Unnamed: 0\": 70, \"states\": \"Louisiana\", \"states_code\": \"LA\", \"id\": 22, \"year\": 2011, \"population\": 4575625}, {\"Unnamed: 0\": 71, \"states\": \"Maine\", \"states_code\": \"ME\", \"id\": 23, \"year\": 2011, \"population\": 1328284}, {\"Unnamed: 0\": 72, \"states\": \"Maryland\", \"states_code\": \"MD\", \"id\": 24, \"year\": 2011, \"population\": 5839419}, {\"Unnamed: 0\": 73, \"states\": \"Massachusetts\", \"states_code\": \"MA\", \"id\": 25, \"year\": 2011, \"population\": 6613583}, {\"Unnamed: 0\": 74, \"states\": \"Michigan\", \"states_code\": \"MI\", \"id\": 26, \"year\": 2011, \"population\": 9882412}, {\"Unnamed: 0\": 75, \"states\": \"Minnesota\", \"states_code\": \"MN\", \"id\": 27, \"year\": 2011, \"population\": 5346143}, {\"Unnamed: 0\": 76, \"states\": \"Mississippi\", \"states_code\": \"MS\", \"id\": 28, \"year\": 2011, \"population\": 2978731}, {\"Unnamed: 0\": 77, \"states\": \"Missouri\", \"states_code\": \"MO\", \"id\": 29, \"year\": 2011, \"population\": 6010275}, {\"Unnamed: 0\": 78, \"states\": \"Montana\", \"states_code\": \"MT\", \"id\": 30, \"year\": 2011, \"population\": 997316}, {\"Unnamed: 0\": 79, \"states\": \"Nebraska\", \"states_code\": \"NE\", \"id\": 31, \"year\": 2011, \"population\": 1840672}, {\"Unnamed: 0\": 80, \"states\": \"Nevada\", \"states_code\": \"NV\", \"id\": 32, \"year\": 2011, \"population\": 2712730}, {\"Unnamed: 0\": 81, \"states\": \"New Hampshire\", \"states_code\": \"NH\", \"id\": 33, \"year\": 2011, \"population\": 1320202}, {\"Unnamed: 0\": 82, \"states\": \"New Jersey\", \"states_code\": \"NJ\", \"id\": 34, \"year\": 2011, \"population\": 8828117}, {\"Unnamed: 0\": 83, \"states\": \"New Mexico\", \"states_code\": \"NM\", \"id\": 35, \"year\": 2011, \"population\": 2080450}, {\"Unnamed: 0\": 84, \"states\": \"New York\", \"states_code\": \"NY\", \"id\": 36, \"year\": 2011, \"population\": 19499241}, {\"Unnamed: 0\": 85, \"states\": \"North Carolina\", \"states_code\": \"NC\", \"id\": 37, \"year\": 2011, \"population\": 9657592}, {\"Unnamed: 0\": 86, \"states\": \"North Dakota\", \"states_code\": \"ND\", \"id\": 38, \"year\": 2011, \"population\": 685225}, {\"Unnamed: 0\": 87, \"states\": \"Ohio\", \"states_code\": \"OH\", \"id\": 39, \"year\": 2011, \"population\": 11544663}, {\"Unnamed: 0\": 88, \"states\": \"Oklahoma\", \"states_code\": \"OK\", \"id\": 40, \"year\": 2011, \"population\": 3788379}, {\"Unnamed: 0\": 89, \"states\": \"Oregon\", \"states_code\": \"OR\", \"id\": 41, \"year\": 2011, \"population\": 3872036}, {\"Unnamed: 0\": 90, \"states\": \"Pennsylvania\", \"states_code\": \"PA\", \"id\": 42, \"year\": 2011, \"population\": 12745815}, {\"Unnamed: 0\": 91, \"states\": \"Rhode Island\", \"states_code\": \"RI\", \"id\": 44, \"year\": 2011, \"population\": 1053649}, {\"Unnamed: 0\": 92, \"states\": \"South Carolina\", \"states_code\": \"SC\", \"id\": 45, \"year\": 2011, \"population\": 4671994}, {\"Unnamed: 0\": 93, \"states\": \"South Dakota\", \"states_code\": \"SD\", \"id\": 46, \"year\": 2011, \"population\": 823579}, {\"Unnamed: 0\": 94, \"states\": \"Tennessee\", \"states_code\": \"TN\", \"id\": 47, \"year\": 2011, \"population\": 6399291}, {\"Unnamed: 0\": 95, \"states\": \"Texas\", \"states_code\": \"TX\", \"id\": 48, \"year\": 2011, \"population\": 25645629}, {\"Unnamed: 0\": 96, \"states\": \"Utah\", \"states_code\": \"UT\", \"id\": 49, \"year\": 2011, \"population\": 2814384}, {\"Unnamed: 0\": 97, \"states\": \"Vermont\", \"states_code\": \"VT\", \"id\": 50, \"year\": 2011, \"population\": 627049}, {\"Unnamed: 0\": 98, \"states\": \"Virginia\", \"states_code\": \"VA\", \"id\": 51, \"year\": 2011, \"population\": 8101155}, {\"Unnamed: 0\": 99, \"states\": \"Washington\", \"states_code\": \"WA\", \"id\": 53, \"year\": 2011, \"population\": 6826627}, {\"Unnamed: 0\": 100, \"states\": \"West Virginia\", \"states_code\": \"WV\", \"id\": 54, \"year\": 2011, \"population\": 1856301}, {\"Unnamed: 0\": 101, \"states\": \"Wisconsin\", \"states_code\": \"WI\", \"id\": 55, \"year\": 2011, \"population\": 5705288}, {\"Unnamed: 0\": 102, \"states\": \"Wyoming\", \"states_code\": \"WY\", \"id\": 56, \"year\": 2011, \"population\": 567299}, {\"Unnamed: 0\": 103, \"states\": \"Puerto Rico\", \"states_code\": \"PR\", \"id\": 72, \"year\": 2011, \"population\": 3678732}, {\"Unnamed: 0\": 104, \"states\": \"Alabama\", \"states_code\": \"AL\", \"id\": 1, \"year\": 2012, \"population\": 4815588}, {\"Unnamed: 0\": 105, \"states\": \"Alaska\", \"states_code\": \"AK\", \"id\": 2, \"year\": 2012, \"population\": 730443}, {\"Unnamed: 0\": 106, \"states\": \"Arizona\", \"states_code\": \"AZ\", \"id\": 4, \"year\": 2012, \"population\": 6554978}, {\"Unnamed: 0\": 107, \"states\": \"Arkansas\", \"states_code\": \"AR\", \"id\": 5, \"year\": 2012, \"population\": 2952164}, {\"Unnamed: 0\": 108, \"states\": \"California\", \"states_code\": \"CA\", \"id\": 6, \"year\": 2012, \"population\": 37948800}, {\"Unnamed: 0\": 109, \"states\": \"Colorado\", \"states_code\": \"CO\", \"id\": 8, \"year\": 2012, \"population\": 5192647}, {\"Unnamed: 0\": 110, \"states\": \"Connecticut\", \"states_code\": \"CT\", \"id\": 9, \"year\": 2012, \"population\": 3594547}, {\"Unnamed: 0\": 111, \"states\": \"Delaware\", \"states_code\": \"DE\", \"id\": 10, \"year\": 2012, \"population\": 915179}, {\"Unnamed: 0\": 112, \"states\": \"District of Columbia\", \"states_code\": \"DC\", \"id\": 11, \"year\": 2012, \"population\": 634924}, {\"Unnamed: 0\": 113, \"states\": \"Florida\", \"states_code\": \"FL\", \"id\": 12, \"year\": 2012, \"population\": 19297822}, {\"Unnamed: 0\": 114, \"states\": \"Georgia\", \"states_code\": \"GA\", \"id\": 13, \"year\": 2012, \"population\": 9901430}, {\"Unnamed: 0\": 115, \"states\": \"Hawaii\", \"states_code\": \"HI\", \"id\": 15, \"year\": 2012, \"population\": 1394804}, {\"Unnamed: 0\": 116, \"states\": \"Idaho\", \"states_code\": \"ID\", \"id\": 16, \"year\": 2012, \"population\": 1595324}, {\"Unnamed: 0\": 117, \"states\": \"Illinois\", \"states_code\": \"IL\", \"id\": 17, \"year\": 2012, \"population\": 12882510}, {\"Unnamed: 0\": 118, \"states\": \"Indiana\", \"states_code\": \"IN\", \"id\": 18, \"year\": 2012, \"population\": 6537703}, {\"Unnamed: 0\": 119, \"states\": \"Iowa\", \"states_code\": \"IA\", \"id\": 19, \"year\": 2012, \"population\": 3076190}, {\"Unnamed: 0\": 120, \"states\": \"Kansas\", \"states_code\": \"KS\", \"id\": 20, \"year\": 2012, \"population\": 2885257}, {\"Unnamed: 0\": 121, \"states\": \"Kentucky\", \"states_code\": \"KY\", \"id\": 21, \"year\": 2012, \"population\": 4386346}, {\"Unnamed: 0\": 122, \"states\": \"Louisiana\", \"states_code\": \"LA\", \"id\": 22, \"year\": 2012, \"population\": 4600972}, {\"Unnamed: 0\": 123, \"states\": \"Maine\", \"states_code\": \"ME\", \"id\": 23, \"year\": 2012, \"population\": 1327729}, {\"Unnamed: 0\": 124, \"states\": \"Maryland\", \"states_code\": \"MD\", \"id\": 24, \"year\": 2012, \"population\": 5886992}, {\"Unnamed: 0\": 125, \"states\": \"Massachusetts\", \"states_code\": \"MA\", \"id\": 25, \"year\": 2012, \"population\": 6663005}, {\"Unnamed: 0\": 126, \"states\": \"Michigan\", \"states_code\": \"MI\", \"id\": 26, \"year\": 2012, \"population\": 9897145}, {\"Unnamed: 0\": 127, \"states\": \"Minnesota\", \"states_code\": \"MN\", \"id\": 27, \"year\": 2012, \"population\": 5376643}, {\"Unnamed: 0\": 128, \"states\": \"Mississippi\", \"states_code\": \"MS\", \"id\": 28, \"year\": 2012, \"population\": 2983816}, {\"Unnamed: 0\": 129, \"states\": \"Missouri\", \"states_code\": \"MO\", \"id\": 29, \"year\": 2012, \"population\": 6024367}, {\"Unnamed: 0\": 130, \"states\": \"Montana\", \"states_code\": \"MT\", \"id\": 30, \"year\": 2012, \"population\": 1003783}, {\"Unnamed: 0\": 131, \"states\": \"Nebraska\", \"states_code\": \"NE\", \"id\": 31, \"year\": 2012, \"population\": 1853303}, {\"Unnamed: 0\": 132, \"states\": \"Nevada\", \"states_code\": \"NV\", \"id\": 32, \"year\": 2012, \"population\": 2743996}, {\"Unnamed: 0\": 133, \"states\": \"New Hampshire\", \"states_code\": \"NH\", \"id\": 33, \"year\": 2012, \"population\": 1324232}, {\"Unnamed: 0\": 134, \"states\": \"New Jersey\", \"states_code\": \"NJ\", \"id\": 34, \"year\": 2012, \"population\": 8844942}, {\"Unnamed: 0\": 135, \"states\": \"New Mexico\", \"states_code\": \"NM\", \"id\": 35, \"year\": 2012, \"population\": 2087309}, {\"Unnamed: 0\": 136, \"states\": \"New York\", \"states_code\": \"NY\", \"id\": 36, \"year\": 2012, \"population\": 19572932}, {\"Unnamed: 0\": 137, \"states\": \"North Carolina\", \"states_code\": \"NC\", \"id\": 37, \"year\": 2012, \"population\": 9749476}, {\"Unnamed: 0\": 138, \"states\": \"North Dakota\", \"states_code\": \"ND\", \"id\": 38, \"year\": 2012, \"population\": 701176}, {\"Unnamed: 0\": 139, \"states\": \"Ohio\", \"states_code\": \"OH\", \"id\": 39, \"year\": 2012, \"population\": 11548923}, {\"Unnamed: 0\": 140, \"states\": \"Oklahoma\", \"states_code\": \"OK\", \"id\": 40, \"year\": 2012, \"population\": 3818814}, {\"Unnamed: 0\": 141, \"states\": \"Oregon\", \"states_code\": \"OR\", \"id\": 41, \"year\": 2012, \"population\": 3899001}, {\"Unnamed: 0\": 142, \"states\": \"Pennsylvania\", \"states_code\": \"PA\", \"id\": 42, \"year\": 2012, \"population\": 12767118}, {\"Unnamed: 0\": 143, \"states\": \"Rhode Island\", \"states_code\": \"RI\", \"id\": 44, \"year\": 2012, \"population\": 1054621}, {\"Unnamed: 0\": 144, \"states\": \"South Carolina\", \"states_code\": \"SC\", \"id\": 45, \"year\": 2012, \"population\": 4717354}, {\"Unnamed: 0\": 145, \"states\": \"South Dakota\", \"states_code\": \"SD\", \"id\": 46, \"year\": 2012, \"population\": 833566}, {\"Unnamed: 0\": 146, \"states\": \"Tennessee\", \"states_code\": \"TN\", \"id\": 47, \"year\": 2012, \"population\": 6453898}, {\"Unnamed: 0\": 147, \"states\": \"Texas\", \"states_code\": \"TX\", \"id\": 48, \"year\": 2012, \"population\": 26084481}, {\"Unnamed: 0\": 148, \"states\": \"Utah\", \"states_code\": \"UT\", \"id\": 49, \"year\": 2012, \"population\": 2853375}, {\"Unnamed: 0\": 149, \"states\": \"Vermont\", \"states_code\": \"VT\", \"id\": 50, \"year\": 2012, \"population\": 626090}, {\"Unnamed: 0\": 150, \"states\": \"Virginia\", \"states_code\": \"VA\", \"id\": 51, \"year\": 2012, \"population\": 8185080}, {\"Unnamed: 0\": 151, \"states\": \"Washington\", \"states_code\": \"WA\", \"id\": 53, \"year\": 2012, \"population\": 6897058}, {\"Unnamed: 0\": 152, \"states\": \"West Virginia\", \"states_code\": \"WV\", \"id\": 54, \"year\": 2012, \"population\": 1856872}, {\"Unnamed: 0\": 153, \"states\": \"Wisconsin\", \"states_code\": \"WI\", \"id\": 55, \"year\": 2012, \"population\": 5719960}, {\"Unnamed: 0\": 154, \"states\": \"Wyoming\", \"states_code\": \"WY\", \"id\": 56, \"year\": 2012, \"population\": 576305}, {\"Unnamed: 0\": 155, \"states\": \"Puerto Rico\", \"states_code\": \"PR\", \"id\": 72, \"year\": 2012, \"population\": 3634488}, {\"Unnamed: 0\": 156, \"states\": \"Alabama\", \"states_code\": \"AL\", \"id\": 1, \"year\": 2013, \"population\": 4830081}, {\"Unnamed: 0\": 157, \"states\": \"Alaska\", \"states_code\": \"AK\", \"id\": 2, \"year\": 2013, \"population\": 737068}, {\"Unnamed: 0\": 158, \"states\": \"Arizona\", \"states_code\": \"AZ\", \"id\": 4, \"year\": 2013, \"population\": 6632764}, {\"Unnamed: 0\": 159, \"states\": \"Arkansas\", \"states_code\": \"AR\", \"id\": 5, \"year\": 2013, \"population\": 2959400}, {\"Unnamed: 0\": 160, \"states\": \"California\", \"states_code\": \"CA\", \"id\": 6, \"year\": 2013, \"population\": 38260787}, {\"Unnamed: 0\": 161, \"states\": \"Colorado\", \"states_code\": \"CO\", \"id\": 8, \"year\": 2013, \"population\": 5269035}, {\"Unnamed: 0\": 162, \"states\": \"Connecticut\", \"states_code\": \"CT\", \"id\": 9, \"year\": 2013, \"population\": 3594841}, {\"Unnamed: 0\": 163, \"states\": \"Delaware\", \"states_code\": \"DE\", \"id\": 10, \"year\": 2013, \"population\": 923576}, {\"Unnamed: 0\": 164, \"states\": \"District of Columbia\", \"states_code\": \"DC\", \"id\": 11, \"year\": 2013, \"population\": 650581}, {\"Unnamed: 0\": 165, \"states\": \"Florida\", \"states_code\": \"FL\", \"id\": 12, \"year\": 2013, \"population\": 19545621}, {\"Unnamed: 0\": 166, \"states\": \"Georgia\", \"states_code\": \"GA\", \"id\": 13, \"year\": 2013, \"population\": 9972479}, {\"Unnamed: 0\": 167, \"states\": \"Hawaii\", \"states_code\": \"HI\", \"id\": 15, \"year\": 2013, \"population\": 1408243}, {\"Unnamed: 0\": 168, \"states\": \"Idaho\", \"states_code\": \"ID\", \"id\": 16, \"year\": 2013, \"population\": 1611206}, {\"Unnamed: 0\": 169, \"states\": \"Illinois\", \"states_code\": \"IL\", \"id\": 17, \"year\": 2013, \"population\": 12895129}, {\"Unnamed: 0\": 170, \"states\": \"Indiana\", \"states_code\": \"IN\", \"id\": 18, \"year\": 2013, \"population\": 6568713}, {\"Unnamed: 0\": 171, \"states\": \"Iowa\", \"states_code\": \"IA\", \"id\": 19, \"year\": 2013, \"population\": 3092997}, {\"Unnamed: 0\": 172, \"states\": \"Kansas\", \"states_code\": \"KS\", \"id\": 20, \"year\": 2013, \"population\": 2893212}, {\"Unnamed: 0\": 173, \"states\": \"Kentucky\", \"states_code\": \"KY\", \"id\": 21, \"year\": 2013, \"population\": 4404659}, {\"Unnamed: 0\": 174, \"states\": \"Louisiana\", \"states_code\": \"LA\", \"id\": 22, \"year\": 2013, \"population\": 4624527}, {\"Unnamed: 0\": 175, \"states\": \"Maine\", \"states_code\": \"ME\", \"id\": 23, \"year\": 2013, \"population\": 1328009}, {\"Unnamed: 0\": 176, \"states\": \"Maryland\", \"states_code\": \"MD\", \"id\": 24, \"year\": 2013, \"population\": 5923188}, {\"Unnamed: 0\": 177, \"states\": \"Massachusetts\", \"states_code\": \"MA\", \"id\": 25, \"year\": 2013, \"population\": 6713315}, {\"Unnamed: 0\": 178, \"states\": \"Michigan\", \"states_code\": \"MI\", \"id\": 26, \"year\": 2013, \"population\": 9913065}, {\"Unnamed: 0\": 179, \"states\": \"Minnesota\", \"states_code\": \"MN\", \"id\": 27, \"year\": 2013, \"population\": 5413479}, {\"Unnamed: 0\": 180, \"states\": \"Mississippi\", \"states_code\": \"MS\", \"id\": 28, \"year\": 2013, \"population\": 2988711}, {\"Unnamed: 0\": 181, \"states\": \"Missouri\", \"states_code\": \"MO\", \"id\": 29, \"year\": 2013, \"population\": 6040715}, {\"Unnamed: 0\": 182, \"states\": \"Montana\", \"states_code\": \"MT\", \"id\": 30, \"year\": 2013, \"population\": 1013569}, {\"Unnamed: 0\": 183, \"states\": \"Nebraska\", \"states_code\": \"NE\", \"id\": 31, \"year\": 2013, \"population\": 1865279}, {\"Unnamed: 0\": 184, \"states\": \"Nevada\", \"states_code\": \"NV\", \"id\": 32, \"year\": 2013, \"population\": 2775970}, {\"Unnamed: 0\": 185, \"states\": \"New Hampshire\", \"states_code\": \"NH\", \"id\": 33, \"year\": 2013, \"population\": 1326622}, {\"Unnamed: 0\": 186, \"states\": \"New Jersey\", \"states_code\": \"NJ\", \"id\": 34, \"year\": 2013, \"population\": 8856972}, {\"Unnamed: 0\": 187, \"states\": \"New Mexico\", \"states_code\": \"NM\", \"id\": 35, \"year\": 2013, \"population\": 2092273}, {\"Unnamed: 0\": 188, \"states\": \"New York\", \"states_code\": \"NY\", \"id\": 36, \"year\": 2013, \"population\": 19624447}, {\"Unnamed: 0\": 189, \"states\": \"North Carolina\", \"states_code\": \"NC\", \"id\": 37, \"year\": 2013, \"population\": 9843336}, {\"Unnamed: 0\": 190, \"states\": \"North Dakota\", \"states_code\": \"ND\", \"id\": 38, \"year\": 2013, \"population\": 722036}, {\"Unnamed: 0\": 191, \"states\": \"Ohio\", \"states_code\": \"OH\", \"id\": 39, \"year\": 2013, \"population\": 11576684}, {\"Unnamed: 0\": 192, \"states\": \"Oklahoma\", \"states_code\": \"OK\", \"id\": 40, \"year\": 2013, \"population\": 3853214}, {\"Unnamed: 0\": 193, \"states\": \"Oregon\", \"states_code\": \"OR\", \"id\": 41, \"year\": 2013, \"population\": 3922468}, {\"Unnamed: 0\": 194, \"states\": \"Pennsylvania\", \"states_code\": \"PA\", \"id\": 42, \"year\": 2013, \"population\": 12776309}, {\"Unnamed: 0\": 195, \"states\": \"Rhode Island\", \"states_code\": \"RI\", \"id\": 44, \"year\": 2013, \"population\": 1055081}, {\"Unnamed: 0\": 196, \"states\": \"South Carolina\", \"states_code\": \"SC\", \"id\": 45, \"year\": 2013, \"population\": 4764080}, {\"Unnamed: 0\": 197, \"states\": \"South Dakota\", \"states_code\": \"SD\", \"id\": 46, \"year\": 2013, \"population\": 842316}, {\"Unnamed: 0\": 198, \"states\": \"Tennessee\", \"states_code\": \"TN\", \"id\": 47, \"year\": 2013, \"population\": 6494340}, {\"Unnamed: 0\": 199, \"states\": \"Texas\", \"states_code\": \"TX\", \"id\": 48, \"year\": 2013, \"population\": 26480266}, {\"Unnamed: 0\": 200, \"states\": \"Utah\", \"states_code\": \"UT\", \"id\": 49, \"year\": 2013, \"population\": 2897640}, {\"Unnamed: 0\": 201, \"states\": \"Vermont\", \"states_code\": \"VT\", \"id\": 50, \"year\": 2013, \"population\": 626210}, {\"Unnamed: 0\": 202, \"states\": \"Virginia\", \"states_code\": \"VA\", \"id\": 51, \"year\": 2013, \"population\": 8252427}, {\"Unnamed: 0\": 203, \"states\": \"Washington\", \"states_code\": \"WA\", \"id\": 53, \"year\": 2013, \"population\": 6963985}, {\"Unnamed: 0\": 204, \"states\": \"West Virginia\", \"states_code\": \"WV\", \"id\": 54, \"year\": 2013, \"population\": 1853914}, {\"Unnamed: 0\": 205, \"states\": \"Wisconsin\", \"states_code\": \"WI\", \"id\": 55, \"year\": 2013, \"population\": 5736754}, {\"Unnamed: 0\": 206, \"states\": \"Wyoming\", \"states_code\": \"WY\", \"id\": 56, \"year\": 2013, \"population\": 582122}, {\"Unnamed: 0\": 207, \"states\": \"Puerto Rico\", \"states_code\": \"PR\", \"id\": 72, \"year\": 2013, \"population\": 3593077}, {\"Unnamed: 0\": 208, \"states\": \"Alabama\", \"states_code\": \"AL\", \"id\": 1, \"year\": 2014, \"population\": 4841799}, {\"Unnamed: 0\": 209, \"states\": \"Alaska\", \"states_code\": \"AK\", \"id\": 2, \"year\": 2014, \"population\": 736283}, {\"Unnamed: 0\": 210, \"states\": \"Arizona\", \"states_code\": \"AZ\", \"id\": 4, \"year\": 2014, \"population\": 6730413}, {\"Unnamed: 0\": 211, \"states\": \"Arkansas\", \"states_code\": \"AR\", \"id\": 5, \"year\": 2014, \"population\": 2967392}, {\"Unnamed: 0\": 212, \"states\": \"California\", \"states_code\": \"CA\", \"id\": 6, \"year\": 2014, \"population\": 38596972}, {\"Unnamed: 0\": 213, \"states\": \"Colorado\", \"states_code\": \"CO\", \"id\": 8, \"year\": 2014, \"population\": 5350101}, {\"Unnamed: 0\": 214, \"states\": \"Connecticut\", \"states_code\": \"CT\", \"id\": 9, \"year\": 2014, \"population\": 3594524}, {\"Unnamed: 0\": 215, \"states\": \"Delaware\", \"states_code\": \"DE\", \"id\": 10, \"year\": 2014, \"population\": 932487}, {\"Unnamed: 0\": 216, \"states\": \"District of Columbia\", \"states_code\": \"DC\", \"id\": 11, \"year\": 2014, \"population\": 662328}, {\"Unnamed: 0\": 217, \"states\": \"Florida\", \"states_code\": \"FL\", \"id\": 12, \"year\": 2014, \"population\": 19845911}, {\"Unnamed: 0\": 218, \"states\": \"Georgia\", \"states_code\": \"GA\", \"id\": 13, \"year\": 2014, \"population\": 10067278}, {\"Unnamed: 0\": 219, \"states\": \"Hawaii\", \"states_code\": \"HI\", \"id\": 15, \"year\": 2014, \"population\": 1414538}, {\"Unnamed: 0\": 220, \"states\": \"Idaho\", \"states_code\": \"ID\", \"id\": 16, \"year\": 2014, \"population\": 1631112}, {\"Unnamed: 0\": 221, \"states\": \"Illinois\", \"states_code\": \"IL\", \"id\": 17, \"year\": 2014, \"population\": 12884493}, {\"Unnamed: 0\": 222, \"states\": \"Indiana\", \"states_code\": \"IN\", \"id\": 18, \"year\": 2014, \"population\": 6593644}, {\"Unnamed: 0\": 223, \"states\": \"Iowa\", \"states_code\": \"IA\", \"id\": 19, \"year\": 2014, \"population\": 3109350}, {\"Unnamed: 0\": 224, \"states\": \"Kansas\", \"states_code\": \"KS\", \"id\": 20, \"year\": 2014, \"population\": 2900475}, {\"Unnamed: 0\": 225, \"states\": \"Kentucky\", \"states_code\": \"KY\", \"id\": 21, \"year\": 2014, \"population\": 4414349}, {\"Unnamed: 0\": 226, \"states\": \"Louisiana\", \"states_code\": \"LA\", \"id\": 22, \"year\": 2014, \"population\": 4644013}, {\"Unnamed: 0\": 227, \"states\": \"Maine\", \"states_code\": \"ME\", \"id\": 23, \"year\": 2014, \"population\": 1330513}, {\"Unnamed: 0\": 228, \"states\": \"Maryland\", \"states_code\": \"MD\", \"id\": 24, \"year\": 2014, \"population\": 5957283}, {\"Unnamed: 0\": 229, \"states\": \"Massachusetts\", \"states_code\": \"MA\", \"id\": 25, \"year\": 2014, \"population\": 6762596}, {\"Unnamed: 0\": 230, \"states\": \"Michigan\", \"states_code\": \"MI\", \"id\": 26, \"year\": 2014, \"population\": 9929848}, {\"Unnamed: 0\": 231, \"states\": \"Minnesota\", \"states_code\": \"MN\", \"id\": 27, \"year\": 2014, \"population\": 5451079}, {\"Unnamed: 0\": 232, \"states\": \"Mississippi\", \"states_code\": \"MS\", \"id\": 28, \"year\": 2014, \"population\": 2990468}, {\"Unnamed: 0\": 233, \"states\": \"Missouri\", \"states_code\": \"MO\", \"id\": 29, \"year\": 2014, \"population\": 6056202}, {\"Unnamed: 0\": 234, \"states\": \"Montana\", \"states_code\": \"MT\", \"id\": 30, \"year\": 2014, \"population\": 1021869}, {\"Unnamed: 0\": 235, \"states\": \"Nebraska\", \"states_code\": \"NE\", \"id\": 31, \"year\": 2014, \"population\": 1879321}, {\"Unnamed: 0\": 236, \"states\": \"Nevada\", \"states_code\": \"NV\", \"id\": 32, \"year\": 2014, \"population\": 2817628}, {\"Unnamed: 0\": 237, \"states\": \"New Hampshire\", \"states_code\": \"NH\", \"id\": 33, \"year\": 2014, \"population\": 1333341}, {\"Unnamed: 0\": 238, \"states\": \"New Jersey\", \"states_code\": \"NJ\", \"id\": 34, \"year\": 2014, \"population\": 8864525}, {\"Unnamed: 0\": 239, \"states\": \"New Mexico\", \"states_code\": \"NM\", \"id\": 35, \"year\": 2014, \"population\": 2089568}, {\"Unnamed: 0\": 240, \"states\": \"New York\", \"states_code\": \"NY\", \"id\": 36, \"year\": 2014, \"population\": 19651049}, {\"Unnamed: 0\": 241, \"states\": \"North Carolina\", \"states_code\": \"NC\", \"id\": 37, \"year\": 2014, \"population\": 9932887}, {\"Unnamed: 0\": 242, \"states\": \"North Dakota\", \"states_code\": \"ND\", \"id\": 38, \"year\": 2014, \"population\": 737401}, {\"Unnamed: 0\": 243, \"states\": \"Ohio\", \"states_code\": \"OH\", \"id\": 39, \"year\": 2014, \"population\": 11602700}, {\"Unnamed: 0\": 244, \"states\": \"Oklahoma\", \"states_code\": \"OK\", \"id\": 40, \"year\": 2014, \"population\": 3878187}, {\"Unnamed: 0\": 245, \"states\": \"Oregon\", \"states_code\": \"OR\", \"id\": 41, \"year\": 2014, \"population\": 3963244}, {\"Unnamed: 0\": 246, \"states\": \"Pennsylvania\", \"states_code\": \"PA\", \"id\": 42, \"year\": 2014, \"population\": 12788313}, {\"Unnamed: 0\": 247, \"states\": \"Rhode Island\", \"states_code\": \"RI\", \"id\": 44, \"year\": 2014, \"population\": 1055936}, {\"Unnamed: 0\": 248, \"states\": \"South Carolina\", \"states_code\": \"SC\", \"id\": 45, \"year\": 2014, \"population\": 4823617}, {\"Unnamed: 0\": 249, \"states\": \"South Dakota\", \"states_code\": \"SD\", \"id\": 46, \"year\": 2014, \"population\": 849129}, {\"Unnamed: 0\": 250, \"states\": \"Tennessee\", \"states_code\": \"TN\", \"id\": 47, \"year\": 2014, \"population\": 6541223}, {\"Unnamed: 0\": 251, \"states\": \"Texas\", \"states_code\": \"TX\", \"id\": 48, \"year\": 2014, \"population\": 26964333}, {\"Unnamed: 0\": 252, \"states\": \"Utah\", \"states_code\": \"UT\", \"id\": 49, \"year\": 2014, \"population\": 2936879}, {\"Unnamed: 0\": 253, \"states\": \"Vermont\", \"states_code\": \"VT\", \"id\": 50, \"year\": 2014, \"population\": 625214}, {\"Unnamed: 0\": 254, \"states\": \"Virginia\", \"states_code\": \"VA\", \"id\": 51, \"year\": 2014, \"population\": 8310993}, {\"Unnamed: 0\": 255, \"states\": \"Washington\", \"states_code\": \"WA\", \"id\": 53, \"year\": 2014, \"population\": 7054655}, {\"Unnamed: 0\": 256, \"states\": \"West Virginia\", \"states_code\": \"WV\", \"id\": 54, \"year\": 2014, \"population\": 1849489}, {\"Unnamed: 0\": 257, \"states\": \"Wisconsin\", \"states_code\": \"WI\", \"id\": 55, \"year\": 2014, \"population\": 5751525}, {\"Unnamed: 0\": 258, \"states\": \"Wyoming\", \"states_code\": \"WY\", \"id\": 56, \"year\": 2014, \"population\": 582531}, {\"Unnamed: 0\": 259, \"states\": \"Puerto Rico\", \"states_code\": \"PR\", \"id\": 72, \"year\": 2014, \"population\": 3534874}, {\"Unnamed: 0\": 260, \"states\": \"Alabama\", \"states_code\": \"AL\", \"id\": 1, \"year\": 2015, \"population\": 4852347}, {\"Unnamed: 0\": 261, \"states\": \"Alaska\", \"states_code\": \"AK\", \"id\": 2, \"year\": 2015, \"population\": 737498}, {\"Unnamed: 0\": 262, \"states\": \"Arizona\", \"states_code\": \"AZ\", \"id\": 4, \"year\": 2015, \"population\": 6829676}, {\"Unnamed: 0\": 263, \"states\": \"Arkansas\", \"states_code\": \"AR\", \"id\": 5, \"year\": 2015, \"population\": 2978048}, {\"Unnamed: 0\": 264, \"states\": \"California\", \"states_code\": \"CA\", \"id\": 6, \"year\": 2015, \"population\": 38918045}, {\"Unnamed: 0\": 265, \"states\": \"Colorado\", \"states_code\": \"CO\", \"id\": 8, \"year\": 2015, \"population\": 5450623}, {\"Unnamed: 0\": 266, \"states\": \"Connecticut\", \"states_code\": \"CT\", \"id\": 9, \"year\": 2015, \"population\": 3587122}, {\"Unnamed: 0\": 267, \"states\": \"Delaware\", \"states_code\": \"DE\", \"id\": 10, \"year\": 2015, \"population\": 941252}, {\"Unnamed: 0\": 268, \"states\": \"District of Columbia\", \"states_code\": \"DC\", \"id\": 11, \"year\": 2015, \"population\": 675400}, {\"Unnamed: 0\": 269, \"states\": \"Florida\", \"states_code\": \"FL\", \"id\": 12, \"year\": 2015, \"population\": 20209042}, {\"Unnamed: 0\": 270, \"states\": \"Georgia\", \"states_code\": \"GA\", \"id\": 13, \"year\": 2015, \"population\": 10178447}, {\"Unnamed: 0\": 271, \"states\": \"Hawaii\", \"states_code\": \"HI\", \"id\": 15, \"year\": 2015, \"population\": 1422052}, {\"Unnamed: 0\": 272, \"states\": \"Idaho\", \"states_code\": \"ID\", \"id\": 16, \"year\": 2015, \"population\": 1651059}, {\"Unnamed: 0\": 273, \"states\": \"Illinois\", \"states_code\": \"IL\", \"id\": 17, \"year\": 2015, \"population\": 12858913}, {\"Unnamed: 0\": 274, \"states\": \"Indiana\", \"states_code\": \"IN\", \"id\": 18, \"year\": 2015, \"population\": 6608422}, {\"Unnamed: 0\": 275, \"states\": \"Iowa\", \"states_code\": \"IA\", \"id\": 19, \"year\": 2015, \"population\": 3120960}, {\"Unnamed: 0\": 276, \"states\": \"Kansas\", \"states_code\": \"KS\", \"id\": 20, \"year\": 2015, \"population\": 2909011}, {\"Unnamed: 0\": 277, \"states\": \"Kentucky\", \"states_code\": \"KY\", \"id\": 21, \"year\": 2015, \"population\": 4425976}, {\"Unnamed: 0\": 278, \"states\": \"Louisiana\", \"states_code\": \"LA\", \"id\": 22, \"year\": 2015, \"population\": 4664628}, {\"Unnamed: 0\": 279, \"states\": \"Maine\", \"states_code\": \"ME\", \"id\": 23, \"year\": 2015, \"population\": 1328262}, {\"Unnamed: 0\": 280, \"states\": \"Maryland\", \"states_code\": \"MD\", \"id\": 24, \"year\": 2015, \"population\": 5985562}, {\"Unnamed: 0\": 281, \"states\": \"Massachusetts\", \"states_code\": \"MA\", \"id\": 25, \"year\": 2015, \"population\": 6794228}, {\"Unnamed: 0\": 282, \"states\": \"Michigan\", \"states_code\": \"MI\", \"id\": 26, \"year\": 2015, \"population\": 9931715}, {\"Unnamed: 0\": 283, \"states\": \"Minnesota\", \"states_code\": \"MN\", \"id\": 27, \"year\": 2015, \"population\": 5482032}, {\"Unnamed: 0\": 284, \"states\": \"Mississippi\", \"states_code\": \"MS\", \"id\": 28, \"year\": 2015, \"population\": 2988471}, {\"Unnamed: 0\": 285, \"states\": \"Missouri\", \"states_code\": \"MO\", \"id\": 29, \"year\": 2015, \"population\": 6071732}, {\"Unnamed: 0\": 286, \"states\": \"Montana\", \"states_code\": \"MT\", \"id\": 30, \"year\": 2015, \"population\": 1030475}, {\"Unnamed: 0\": 287, \"states\": \"Nebraska\", \"states_code\": \"NE\", \"id\": 31, \"year\": 2015, \"population\": 1891277}, {\"Unnamed: 0\": 288, \"states\": \"Nevada\", \"states_code\": \"NV\", \"id\": 32, \"year\": 2015, \"population\": 2866939}, {\"Unnamed: 0\": 289, \"states\": \"New Hampshire\", \"states_code\": \"NH\", \"id\": 33, \"year\": 2015, \"population\": 1336350}, {\"Unnamed: 0\": 290, \"states\": \"New Jersey\", \"states_code\": \"NJ\", \"id\": 34, \"year\": 2015, \"population\": 8867949}, {\"Unnamed: 0\": 291, \"states\": \"New Mexico\", \"states_code\": \"NM\", \"id\": 35, \"year\": 2015, \"population\": 2089291}, {\"Unnamed: 0\": 292, \"states\": \"New York\", \"states_code\": \"NY\", \"id\": 36, \"year\": 2015, \"population\": 19654666}, {\"Unnamed: 0\": 293, \"states\": \"North Carolina\", \"states_code\": \"NC\", \"id\": 37, \"year\": 2015, \"population\": 10031646}, {\"Unnamed: 0\": 294, \"states\": \"North Dakota\", \"states_code\": \"ND\", \"id\": 38, \"year\": 2015, \"population\": 754066}, {\"Unnamed: 0\": 295, \"states\": \"Ohio\", \"states_code\": \"OH\", \"id\": 39, \"year\": 2015, \"population\": 11617527}, {\"Unnamed: 0\": 296, \"states\": \"Oklahoma\", \"states_code\": \"OK\", \"id\": 40, \"year\": 2015, \"population\": 3909500}, {\"Unnamed: 0\": 297, \"states\": \"Oregon\", \"states_code\": \"OR\", \"id\": 41, \"year\": 2015, \"population\": 4015792}, {\"Unnamed: 0\": 298, \"states\": \"Pennsylvania\", \"states_code\": \"PA\", \"id\": 42, \"year\": 2015, \"population\": 12784826}, {\"Unnamed: 0\": 299, \"states\": \"Rhode Island\", \"states_code\": \"RI\", \"id\": 44, \"year\": 2015, \"population\": 1056065}, {\"Unnamed: 0\": 300, \"states\": \"South Carolina\", \"states_code\": \"SC\", \"id\": 45, \"year\": 2015, \"population\": 4891938}, {\"Unnamed: 0\": 301, \"states\": \"South Dakota\", \"states_code\": \"SD\", \"id\": 46, \"year\": 2015, \"population\": 853988}, {\"Unnamed: 0\": 302, \"states\": \"Tennessee\", \"states_code\": \"TN\", \"id\": 47, \"year\": 2015, \"population\": 6591170}, {\"Unnamed: 0\": 303, \"states\": \"Texas\", \"states_code\": \"TX\", \"id\": 48, \"year\": 2015, \"population\": 27470056}, {\"Unnamed: 0\": 304, \"states\": \"Utah\", \"states_code\": \"UT\", \"id\": 49, \"year\": 2015, \"population\": 2981835}, {\"Unnamed: 0\": 305, \"states\": \"Vermont\", \"states_code\": \"VT\", \"id\": 50, \"year\": 2015, \"population\": 625216}, {\"Unnamed: 0\": 306, \"states\": \"Virginia\", \"states_code\": \"VA\", \"id\": 51, \"year\": 2015, \"population\": 8361808}, {\"Unnamed: 0\": 307, \"states\": \"Washington\", \"states_code\": \"WA\", \"id\": 53, \"year\": 2015, \"population\": 7163657}, {\"Unnamed: 0\": 308, \"states\": \"West Virginia\", \"states_code\": \"WV\", \"id\": 54, \"year\": 2015, \"population\": 1842050}, {\"Unnamed: 0\": 309, \"states\": \"Wisconsin\", \"states_code\": \"WI\", \"id\": 55, \"year\": 2015, \"population\": 5760940}, {\"Unnamed: 0\": 310, \"states\": \"Wyoming\", \"states_code\": \"WY\", \"id\": 56, \"year\": 2015, \"population\": 585613}, {\"Unnamed: 0\": 311, \"states\": \"Puerto Rico\", \"states_code\": \"PR\", \"id\": 72, \"year\": 2015, \"population\": 3473232}, {\"Unnamed: 0\": 312, \"states\": \"Alabama\", \"states_code\": \"AL\", \"id\": 1, \"year\": 2016, \"population\": 4863525}, {\"Unnamed: 0\": 313, \"states\": \"Alaska\", \"states_code\": \"AK\", \"id\": 2, \"year\": 2016, \"population\": 741456}, {\"Unnamed: 0\": 314, \"states\": \"Arizona\", \"states_code\": \"AZ\", \"id\": 4, \"year\": 2016, \"population\": 6941072}, {\"Unnamed: 0\": 315, \"states\": \"Arkansas\", \"states_code\": \"AR\", \"id\": 5, \"year\": 2016, \"population\": 2989918}, {\"Unnamed: 0\": 316, \"states\": \"California\", \"states_code\": \"CA\", \"id\": 6, \"year\": 2016, \"population\": 39167117}, {\"Unnamed: 0\": 317, \"states\": \"Colorado\", \"states_code\": \"CO\", \"id\": 8, \"year\": 2016, \"population\": 5539215}, {\"Unnamed: 0\": 318, \"states\": \"Connecticut\", \"states_code\": \"CT\", \"id\": 9, \"year\": 2016, \"population\": 3578141}, {\"Unnamed: 0\": 319, \"states\": \"Delaware\", \"states_code\": \"DE\", \"id\": 10, \"year\": 2016, \"population\": 948921}, {\"Unnamed: 0\": 320, \"states\": \"District of Columbia\", \"states_code\": \"DC\", \"id\": 11, \"year\": 2016, \"population\": 685815}, {\"Unnamed: 0\": 321, \"states\": \"Florida\", \"states_code\": \"FL\", \"id\": 12, \"year\": 2016, \"population\": 20613477}, {\"Unnamed: 0\": 322, \"states\": \"Georgia\", \"states_code\": \"GA\", \"id\": 13, \"year\": 2016, \"population\": 10301890}, {\"Unnamed: 0\": 323, \"states\": \"Hawaii\", \"states_code\": \"HI\", \"id\": 15, \"year\": 2016, \"population\": 1427559}, {\"Unnamed: 0\": 324, \"states\": \"Idaho\", \"states_code\": \"ID\", \"id\": 16, \"year\": 2016, \"population\": 1682380}, {\"Unnamed: 0\": 325, \"states\": \"Illinois\", \"states_code\": \"IL\", \"id\": 17, \"year\": 2016, \"population\": 12820527}, {\"Unnamed: 0\": 326, \"states\": \"Indiana\", \"states_code\": \"IN\", \"id\": 18, \"year\": 2016, \"population\": 6634304}, {\"Unnamed: 0\": 327, \"states\": \"Iowa\", \"states_code\": \"IA\", \"id\": 19, \"year\": 2016, \"population\": 3131371}, {\"Unnamed: 0\": 328, \"states\": \"Kansas\", \"states_code\": \"KS\", \"id\": 20, \"year\": 2016, \"population\": 2910844}, {\"Unnamed: 0\": 329, \"states\": \"Kentucky\", \"states_code\": \"KY\", \"id\": 21, \"year\": 2016, \"population\": 4438182}, {\"Unnamed: 0\": 330, \"states\": \"Louisiana\", \"states_code\": \"LA\", \"id\": 22, \"year\": 2016, \"population\": 4678135}, {\"Unnamed: 0\": 331, \"states\": \"Maine\", \"states_code\": \"ME\", \"id\": 23, \"year\": 2016, \"population\": 1331317}, {\"Unnamed: 0\": 332, \"states\": \"Maryland\", \"states_code\": \"MD\", \"id\": 24, \"year\": 2016, \"population\": 6003323}, {\"Unnamed: 0\": 333, \"states\": \"Massachusetts\", \"states_code\": \"MA\", \"id\": 25, \"year\": 2016, \"population\": 6823608}, {\"Unnamed: 0\": 334, \"states\": \"Michigan\", \"states_code\": \"MI\", \"id\": 26, \"year\": 2016, \"population\": 9950571}, {\"Unnamed: 0\": 335, \"states\": \"Minnesota\", \"states_code\": \"MN\", \"id\": 27, \"year\": 2016, \"population\": 5522744}, {\"Unnamed: 0\": 336, \"states\": \"Mississippi\", \"states_code\": \"MS\", \"id\": 28, \"year\": 2016, \"population\": 2987938}, {\"Unnamed: 0\": 337, \"states\": \"Missouri\", \"states_code\": \"MO\", \"id\": 29, \"year\": 2016, \"population\": 6087135}, {\"Unnamed: 0\": 338, \"states\": \"Montana\", \"states_code\": \"MT\", \"id\": 30, \"year\": 2016, \"population\": 1040859}, {\"Unnamed: 0\": 339, \"states\": \"Nebraska\", \"states_code\": \"NE\", \"id\": 31, \"year\": 2016, \"population\": 1905616}, {\"Unnamed: 0\": 340, \"states\": \"Nevada\", \"states_code\": \"NV\", \"id\": 32, \"year\": 2016, \"population\": 2917563}, {\"Unnamed: 0\": 341, \"states\": \"New Hampshire\", \"states_code\": \"NH\", \"id\": 33, \"year\": 2016, \"population\": 1342307}, {\"Unnamed: 0\": 342, \"states\": \"New Jersey\", \"states_code\": \"NJ\", \"id\": 34, \"year\": 2016, \"population\": 8870827}, {\"Unnamed: 0\": 343, \"states\": \"New Mexico\", \"states_code\": \"NM\", \"id\": 35, \"year\": 2016, \"population\": 2091630}, {\"Unnamed: 0\": 344, \"states\": \"New York\", \"states_code\": \"NY\", \"id\": 36, \"year\": 2016, \"population\": 19633428}, {\"Unnamed: 0\": 345, \"states\": \"North Carolina\", \"states_code\": \"NC\", \"id\": 37, \"year\": 2016, \"population\": 10154788}, {\"Unnamed: 0\": 346, \"states\": \"North Dakota\", \"states_code\": \"ND\", \"id\": 38, \"year\": 2016, \"population\": 754434}, {\"Unnamed: 0\": 347, \"states\": \"Ohio\", \"states_code\": \"OH\", \"id\": 39, \"year\": 2016, \"population\": 11634370}, {\"Unnamed: 0\": 348, \"states\": \"Oklahoma\", \"states_code\": \"OK\", \"id\": 40, \"year\": 2016, \"population\": 3926331}, {\"Unnamed: 0\": 349, \"states\": \"Oregon\", \"states_code\": \"OR\", \"id\": 41, \"year\": 2016, \"population\": 4089976}, {\"Unnamed: 0\": 350, \"states\": \"Pennsylvania\", \"states_code\": \"PA\", \"id\": 42, \"year\": 2016, \"population\": 12782275}, {\"Unnamed: 0\": 351, \"states\": \"Rhode Island\", \"states_code\": \"RI\", \"id\": 44, \"year\": 2016, \"population\": 1056770}, {\"Unnamed: 0\": 352, \"states\": \"South Carolina\", \"states_code\": \"SC\", \"id\": 45, \"year\": 2016, \"population\": 4957968}, {\"Unnamed: 0\": 353, \"states\": \"South Dakota\", \"states_code\": \"SD\", \"id\": 46, \"year\": 2016, \"population\": 862996}, {\"Unnamed: 0\": 354, \"states\": \"Tennessee\", \"states_code\": \"TN\", \"id\": 47, \"year\": 2016, \"population\": 6646010}, {\"Unnamed: 0\": 355, \"states\": \"Texas\", \"states_code\": \"TX\", \"id\": 48, \"year\": 2016, \"population\": 27914410}, {\"Unnamed: 0\": 356, \"states\": \"Utah\", \"states_code\": \"UT\", \"id\": 49, \"year\": 2016, \"population\": 3041868}, {\"Unnamed: 0\": 357, \"states\": \"Vermont\", \"states_code\": \"VT\", \"id\": 50, \"year\": 2016, \"population\": 623657}, {\"Unnamed: 0\": 358, \"states\": \"Virginia\", \"states_code\": \"VA\", \"id\": 51, \"year\": 2016, \"population\": 8410106}, {\"Unnamed: 0\": 359, \"states\": \"Washington\", \"states_code\": \"WA\", \"id\": 53, \"year\": 2016, \"population\": 7294771}, {\"Unnamed: 0\": 360, \"states\": \"West Virginia\", \"states_code\": \"WV\", \"id\": 54, \"year\": 2016, \"population\": 1831023}, {\"Unnamed: 0\": 361, \"states\": \"Wisconsin\", \"states_code\": \"WI\", \"id\": 55, \"year\": 2016, \"population\": 5772628}, {\"Unnamed: 0\": 362, \"states\": \"Wyoming\", \"states_code\": \"WY\", \"id\": 56, \"year\": 2016, \"population\": 584215}, {\"Unnamed: 0\": 363, \"states\": \"Puerto Rico\", \"states_code\": \"PR\", \"id\": 72, \"year\": 2016, \"population\": 3406672}, {\"Unnamed: 0\": 364, \"states\": \"Alabama\", \"states_code\": \"AL\", \"id\": 1, \"year\": 2017, \"population\": 4874486}, {\"Unnamed: 0\": 365, \"states\": \"Alaska\", \"states_code\": \"AK\", \"id\": 2, \"year\": 2017, \"population\": 739700}, {\"Unnamed: 0\": 366, \"states\": \"Arizona\", \"states_code\": \"AZ\", \"id\": 4, \"year\": 2017, \"population\": 7044008}, {\"Unnamed: 0\": 367, \"states\": \"Arkansas\", \"states_code\": \"AR\", \"id\": 5, \"year\": 2017, \"population\": 3001345}, {\"Unnamed: 0\": 368, \"states\": \"California\", \"states_code\": \"CA\", \"id\": 6, \"year\": 2017, \"population\": 39358497}, {\"Unnamed: 0\": 369, \"states\": \"Colorado\", \"states_code\": \"CO\", \"id\": 8, \"year\": 2017, \"population\": 5611885}, {\"Unnamed: 0\": 370, \"states\": \"Connecticut\", \"states_code\": \"CT\", \"id\": 9, \"year\": 2017, \"population\": 3573297}, {\"Unnamed: 0\": 371, \"states\": \"Delaware\", \"states_code\": \"DE\", \"id\": 10, \"year\": 2017, \"population\": 956823}, {\"Unnamed: 0\": 372, \"states\": \"District of Columbia\", \"states_code\": \"DC\", \"id\": 11, \"year\": 2017, \"population\": 694906}, {\"Unnamed: 0\": 373, \"states\": \"Florida\", \"states_code\": \"FL\", \"id\": 12, \"year\": 2017, \"population\": 20963613}, {\"Unnamed: 0\": 374, \"states\": \"Georgia\", \"states_code\": \"GA\", \"id\": 13, \"year\": 2017, \"population\": 10410330}, {\"Unnamed: 0\": 375, \"states\": \"Hawaii\", \"states_code\": \"HI\", \"id\": 15, \"year\": 2017, \"population\": 1424393}, {\"Unnamed: 0\": 376, \"states\": \"Idaho\", \"states_code\": \"ID\", \"id\": 16, \"year\": 2017, \"population\": 1717715}, {\"Unnamed: 0\": 377, \"states\": \"Illinois\", \"states_code\": \"IL\", \"id\": 17, \"year\": 2017, \"population\": 12778828}, {\"Unnamed: 0\": 378, \"states\": \"Indiana\", \"states_code\": \"IN\", \"id\": 18, \"year\": 2017, \"population\": 6658078}, {\"Unnamed: 0\": 379, \"states\": \"Iowa\", \"states_code\": \"IA\", \"id\": 19, \"year\": 2017, \"population\": 3141550}, {\"Unnamed: 0\": 380, \"states\": \"Kansas\", \"states_code\": \"KS\", \"id\": 20, \"year\": 2017, \"population\": 2908718}, {\"Unnamed: 0\": 381, \"states\": \"Kentucky\", \"states_code\": \"KY\", \"id\": 21, \"year\": 2017, \"population\": 4452268}, {\"Unnamed: 0\": 382, \"states\": \"Louisiana\", \"states_code\": \"LA\", \"id\": 22, \"year\": 2017, \"population\": 4670560}, {\"Unnamed: 0\": 383, \"states\": \"Maine\", \"states_code\": \"ME\", \"id\": 23, \"year\": 2017, \"population\": 1334612}, {\"Unnamed: 0\": 384, \"states\": \"Maryland\", \"states_code\": \"MD\", \"id\": 24, \"year\": 2017, \"population\": 6023868}, {\"Unnamed: 0\": 385, \"states\": \"Massachusetts\", \"states_code\": \"MA\", \"id\": 25, \"year\": 2017, \"population\": 6859789}, {\"Unnamed: 0\": 386, \"states\": \"Michigan\", \"states_code\": \"MI\", \"id\": 26, \"year\": 2017, \"population\": 9973114}, {\"Unnamed: 0\": 387, \"states\": \"Minnesota\", \"states_code\": \"MN\", \"id\": 27, \"year\": 2017, \"population\": 5566230}, {\"Unnamed: 0\": 388, \"states\": \"Mississippi\", \"states_code\": \"MS\", \"id\": 28, \"year\": 2017, \"population\": 2988510}, {\"Unnamed: 0\": 389, \"states\": \"Missouri\", \"states_code\": \"MO\", \"id\": 29, \"year\": 2017, \"population\": 6106670}, {\"Unnamed: 0\": 390, \"states\": \"Montana\", \"states_code\": \"MT\", \"id\": 30, \"year\": 2017, \"population\": 1052482}, {\"Unnamed: 0\": 391, \"states\": \"Nebraska\", \"states_code\": \"NE\", \"id\": 31, \"year\": 2017, \"population\": 1915947}, {\"Unnamed: 0\": 392, \"states\": \"Nevada\", \"states_code\": \"NV\", \"id\": 32, \"year\": 2017, \"population\": 2969905}, {\"Unnamed: 0\": 393, \"states\": \"New Hampshire\", \"states_code\": \"NH\", \"id\": 33, \"year\": 2017, \"population\": 1348787}, {\"Unnamed: 0\": 394, \"states\": \"New Jersey\", \"states_code\": \"NJ\", \"id\": 34, \"year\": 2017, \"population\": 8885525}, {\"Unnamed: 0\": 395, \"states\": \"New Mexico\", \"states_code\": \"NM\", \"id\": 35, \"year\": 2017, \"population\": 2091784}, {\"Unnamed: 0\": 396, \"states\": \"New York\", \"states_code\": \"NY\", \"id\": 36, \"year\": 2017, \"population\": 19589572}, {\"Unnamed: 0\": 397, \"states\": \"North Carolina\", \"states_code\": \"NC\", \"id\": 37, \"year\": 2017, \"population\": 10268233}, {\"Unnamed: 0\": 398, \"states\": \"North Dakota\", \"states_code\": \"ND\", \"id\": 38, \"year\": 2017, \"population\": 754942}, {\"Unnamed: 0\": 399, \"states\": \"Ohio\", \"states_code\": \"OH\", \"id\": 39, \"year\": 2017, \"population\": 11659650}, {\"Unnamed: 0\": 400, \"states\": \"Oklahoma\", \"states_code\": \"OK\", \"id\": 40, \"year\": 2017, \"population\": 3931316}, {\"Unnamed: 0\": 401, \"states\": \"Oregon\", \"states_code\": \"OR\", \"id\": 41, \"year\": 2017, \"population\": 4143625}, {\"Unnamed: 0\": 402, \"states\": \"Pennsylvania\", \"states_code\": \"PA\", \"id\": 42, \"year\": 2017, \"population\": 12787641}, {\"Unnamed: 0\": 403, \"states\": \"Rhode Island\", \"states_code\": \"RI\", \"id\": 44, \"year\": 2017, \"population\": 1055673}, {\"Unnamed: 0\": 404, \"states\": \"South Carolina\", \"states_code\": \"SC\", \"id\": 45, \"year\": 2017, \"population\": 5021268}, {\"Unnamed: 0\": 405, \"states\": \"South Dakota\", \"states_code\": \"SD\", \"id\": 46, \"year\": 2017, \"population\": 872868}, {\"Unnamed: 0\": 406, \"states\": \"Tennessee\", \"states_code\": \"TN\", \"id\": 47, \"year\": 2017, \"population\": 6708799}, {\"Unnamed: 0\": 407, \"states\": \"Texas\", \"states_code\": \"TX\", \"id\": 48, \"year\": 2017, \"population\": 28295273}, {\"Unnamed: 0\": 408, \"states\": \"Utah\", \"states_code\": \"UT\", \"id\": 49, \"year\": 2017, \"population\": 3101042}, {\"Unnamed: 0\": 409, \"states\": \"Vermont\", \"states_code\": \"VT\", \"id\": 50, \"year\": 2017, \"population\": 624344}, {\"Unnamed: 0\": 410, \"states\": \"Virginia\", \"states_code\": \"VA\", \"id\": 51, \"year\": 2017, \"population\": 8463587}, {\"Unnamed: 0\": 411, \"states\": \"Washington\", \"states_code\": \"WA\", \"id\": 53, \"year\": 2017, \"population\": 7423362}, {\"Unnamed: 0\": 412, \"states\": \"West Virginia\", \"states_code\": \"WV\", \"id\": 54, \"year\": 2017, \"population\": 1817004}, {\"Unnamed: 0\": 413, \"states\": \"Wisconsin\", \"states_code\": \"WI\", \"id\": 55, \"year\": 2017, \"population\": 5790186}, {\"Unnamed: 0\": 414, \"states\": \"Wyoming\", \"states_code\": \"WY\", \"id\": 56, \"year\": 2017, \"population\": 578931}, {\"Unnamed: 0\": 415, \"states\": \"Puerto Rico\", \"states_code\": \"PR\", \"id\": 72, \"year\": 2017, \"population\": 3325286}, {\"Unnamed: 0\": 416, \"states\": \"Alabama\", \"states_code\": \"AL\", \"id\": 1, \"year\": 2018, \"population\": 4887681}, {\"Unnamed: 0\": 417, \"states\": \"Alaska\", \"states_code\": \"AK\", \"id\": 2, \"year\": 2018, \"population\": 735139}, {\"Unnamed: 0\": 418, \"states\": \"Arizona\", \"states_code\": \"AZ\", \"id\": 4, \"year\": 2018, \"population\": 7158024}, {\"Unnamed: 0\": 419, \"states\": \"Arkansas\", \"states_code\": \"AR\", \"id\": 5, \"year\": 2018, \"population\": 3009733}, {\"Unnamed: 0\": 420, \"states\": \"California\", \"states_code\": \"CA\", \"id\": 6, \"year\": 2018, \"population\": 39461588}, {\"Unnamed: 0\": 421, \"states\": \"Colorado\", \"states_code\": \"CO\", \"id\": 8, \"year\": 2018, \"population\": 5691287}, {\"Unnamed: 0\": 422, \"states\": \"Connecticut\", \"states_code\": \"CT\", \"id\": 9, \"year\": 2018, \"population\": 3571520}, {\"Unnamed: 0\": 423, \"states\": \"Delaware\", \"states_code\": \"DE\", \"id\": 10, \"year\": 2018, \"population\": 965479}, {\"Unnamed: 0\": 424, \"states\": \"District of Columbia\", \"states_code\": \"DC\", \"id\": 11, \"year\": 2018, \"population\": 701547}, {\"Unnamed: 0\": 425, \"states\": \"Florida\", \"states_code\": \"FL\", \"id\": 12, \"year\": 2018, \"population\": 21244317}, {\"Unnamed: 0\": 426, \"states\": \"Georgia\", \"states_code\": \"GA\", \"id\": 13, \"year\": 2018, \"population\": 10511131}, {\"Unnamed: 0\": 427, \"states\": \"Hawaii\", \"states_code\": \"HI\", \"id\": 15, \"year\": 2018, \"population\": 1420593}, {\"Unnamed: 0\": 428, \"states\": \"Idaho\", \"states_code\": \"ID\", \"id\": 16, \"year\": 2018, \"population\": 1750536}, {\"Unnamed: 0\": 429, \"states\": \"Illinois\", \"states_code\": \"IL\", \"id\": 17, \"year\": 2018, \"population\": 12723071}, {\"Unnamed: 0\": 430, \"states\": \"Indiana\", \"states_code\": \"IN\", \"id\": 18, \"year\": 2018, \"population\": 6695497}, {\"Unnamed: 0\": 431, \"states\": \"Iowa\", \"states_code\": \"IA\", \"id\": 19, \"year\": 2018, \"population\": 3148618}, {\"Unnamed: 0\": 432, \"states\": \"Kansas\", \"states_code\": \"KS\", \"id\": 20, \"year\": 2018, \"population\": 2911359}, {\"Unnamed: 0\": 433, \"states\": \"Kentucky\", \"states_code\": \"KY\", \"id\": 21, \"year\": 2018, \"population\": 4461153}, {\"Unnamed: 0\": 434, \"states\": \"Louisiana\", \"states_code\": \"LA\", \"id\": 22, \"year\": 2018, \"population\": 4659690}, {\"Unnamed: 0\": 435, \"states\": \"Maine\", \"states_code\": \"ME\", \"id\": 23, \"year\": 2018, \"population\": 1339057}, {\"Unnamed: 0\": 436, \"states\": \"Maryland\", \"states_code\": \"MD\", \"id\": 24, \"year\": 2018, \"population\": 6035802}, {\"Unnamed: 0\": 437, \"states\": \"Massachusetts\", \"states_code\": \"MA\", \"id\": 25, \"year\": 2018, \"population\": 6882635}, {\"Unnamed: 0\": 438, \"states\": \"Michigan\", \"states_code\": \"MI\", \"id\": 26, \"year\": 2018, \"population\": 9984072}, {\"Unnamed: 0\": 439, \"states\": \"Minnesota\", \"states_code\": \"MN\", \"id\": 27, \"year\": 2018, \"population\": 5606249}, {\"Unnamed: 0\": 440, \"states\": \"Mississippi\", \"states_code\": \"MS\", \"id\": 28, \"year\": 2018, \"population\": 2981020}, {\"Unnamed: 0\": 441, \"states\": \"Missouri\", \"states_code\": \"MO\", \"id\": 29, \"year\": 2018, \"population\": 6121623}, {\"Unnamed: 0\": 442, \"states\": \"Montana\", \"states_code\": \"MT\", \"id\": 30, \"year\": 2018, \"population\": 1060665}, {\"Unnamed: 0\": 443, \"states\": \"Nebraska\", \"states_code\": \"NE\", \"id\": 31, \"year\": 2018, \"population\": 1925614}, {\"Unnamed: 0\": 444, \"states\": \"Nevada\", \"states_code\": \"NV\", \"id\": 32, \"year\": 2018, \"population\": 3027341}, {\"Unnamed: 0\": 445, \"states\": \"New Hampshire\", \"states_code\": \"NH\", \"id\": 33, \"year\": 2018, \"population\": 1353465}, {\"Unnamed: 0\": 446, \"states\": \"New Jersey\", \"states_code\": \"NJ\", \"id\": 34, \"year\": 2018, \"population\": 8886025}, {\"Unnamed: 0\": 447, \"states\": \"New Mexico\", \"states_code\": \"NM\", \"id\": 35, \"year\": 2018, \"population\": 2092741}, {\"Unnamed: 0\": 448, \"states\": \"New York\", \"states_code\": \"NY\", \"id\": 36, \"year\": 2018, \"population\": 19530351}, {\"Unnamed: 0\": 449, \"states\": \"North Carolina\", \"states_code\": \"NC\", \"id\": 37, \"year\": 2018, \"population\": 10381615}, {\"Unnamed: 0\": 450, \"states\": \"North Dakota\", \"states_code\": \"ND\", \"id\": 38, \"year\": 2018, \"population\": 758080}, {\"Unnamed: 0\": 451, \"states\": \"Ohio\", \"states_code\": \"OH\", \"id\": 39, \"year\": 2018, \"population\": 11676341}, {\"Unnamed: 0\": 452, \"states\": \"Oklahoma\", \"states_code\": \"OK\", \"id\": 40, \"year\": 2018, \"population\": 3940235}, {\"Unnamed: 0\": 453, \"states\": \"Oregon\", \"states_code\": \"OR\", \"id\": 41, \"year\": 2018, \"population\": 4181886}, {\"Unnamed: 0\": 454, \"states\": \"Pennsylvania\", \"states_code\": \"PA\", \"id\": 42, \"year\": 2018, \"population\": 12800922}, {\"Unnamed: 0\": 455, \"states\": \"Rhode Island\", \"states_code\": \"RI\", \"id\": 44, \"year\": 2018, \"population\": 1058287}, {\"Unnamed: 0\": 456, \"states\": \"South Carolina\", \"states_code\": \"SC\", \"id\": 45, \"year\": 2018, \"population\": 5084156}, {\"Unnamed: 0\": 457, \"states\": \"South Dakota\", \"states_code\": \"SD\", \"id\": 46, \"year\": 2018, \"population\": 878698}, {\"Unnamed: 0\": 458, \"states\": \"Tennessee\", \"states_code\": \"TN\", \"id\": 47, \"year\": 2018, \"population\": 6771631}, {\"Unnamed: 0\": 459, \"states\": \"Texas\", \"states_code\": \"TX\", \"id\": 48, \"year\": 2018, \"population\": 28628666}, {\"Unnamed: 0\": 460, \"states\": \"Utah\", \"states_code\": \"UT\", \"id\": 49, \"year\": 2018, \"population\": 3153550}, {\"Unnamed: 0\": 461, \"states\": \"Vermont\", \"states_code\": \"VT\", \"id\": 50, \"year\": 2018, \"population\": 624358}, {\"Unnamed: 0\": 462, \"states\": \"Virginia\", \"states_code\": \"VA\", \"id\": 51, \"year\": 2018, \"population\": 8501286}, {\"Unnamed: 0\": 463, \"states\": \"Washington\", \"states_code\": \"WA\", \"id\": 53, \"year\": 2018, \"population\": 7523869}, {\"Unnamed: 0\": 464, \"states\": \"West Virginia\", \"states_code\": \"WV\", \"id\": 54, \"year\": 2018, \"population\": 1804291}, {\"Unnamed: 0\": 465, \"states\": \"Wisconsin\", \"states_code\": \"WI\", \"id\": 55, \"year\": 2018, \"population\": 5807406}, {\"Unnamed: 0\": 466, \"states\": \"Wyoming\", \"states_code\": \"WY\", \"id\": 56, \"year\": 2018, \"population\": 577601}, {\"Unnamed: 0\": 467, \"states\": \"Puerto Rico\", \"states_code\": \"PR\", \"id\": 72, \"year\": 2018, \"population\": 3193354}, {\"Unnamed: 0\": 468, \"states\": \"Alabama\", \"states_code\": \"AL\", \"id\": 1, \"year\": 2019, \"population\": 4903185}, {\"Unnamed: 0\": 469, \"states\": \"Alaska\", \"states_code\": \"AK\", \"id\": 2, \"year\": 2019, \"population\": 731545}, {\"Unnamed: 0\": 470, \"states\": \"Arizona\", \"states_code\": \"AZ\", \"id\": 4, \"year\": 2019, \"population\": 7278717}, {\"Unnamed: 0\": 471, \"states\": \"Arkansas\", \"states_code\": \"AR\", \"id\": 5, \"year\": 2019, \"population\": 3017804}, {\"Unnamed: 0\": 472, \"states\": \"California\", \"states_code\": \"CA\", \"id\": 6, \"year\": 2019, \"population\": 39512223}, {\"Unnamed: 0\": 473, \"states\": \"Colorado\", \"states_code\": \"CO\", \"id\": 8, \"year\": 2019, \"population\": 5758736}, {\"Unnamed: 0\": 474, \"states\": \"Connecticut\", \"states_code\": \"CT\", \"id\": 9, \"year\": 2019, \"population\": 3565287}, {\"Unnamed: 0\": 475, \"states\": \"Delaware\", \"states_code\": \"DE\", \"id\": 10, \"year\": 2019, \"population\": 973764}, {\"Unnamed: 0\": 476, \"states\": \"District of Columbia\", \"states_code\": \"DC\", \"id\": 11, \"year\": 2019, \"population\": 705749}, {\"Unnamed: 0\": 477, \"states\": \"Florida\", \"states_code\": \"FL\", \"id\": 12, \"year\": 2019, \"population\": 21477737}, {\"Unnamed: 0\": 478, \"states\": \"Georgia\", \"states_code\": \"GA\", \"id\": 13, \"year\": 2019, \"population\": 10617423}, {\"Unnamed: 0\": 479, \"states\": \"Hawaii\", \"states_code\": \"HI\", \"id\": 15, \"year\": 2019, \"population\": 1415872}, {\"Unnamed: 0\": 480, \"states\": \"Idaho\", \"states_code\": \"ID\", \"id\": 16, \"year\": 2019, \"population\": 1787065}, {\"Unnamed: 0\": 481, \"states\": \"Illinois\", \"states_code\": \"IL\", \"id\": 17, \"year\": 2019, \"population\": 12671821}, {\"Unnamed: 0\": 482, \"states\": \"Indiana\", \"states_code\": \"IN\", \"id\": 18, \"year\": 2019, \"population\": 6732219}, {\"Unnamed: 0\": 483, \"states\": \"Iowa\", \"states_code\": \"IA\", \"id\": 19, \"year\": 2019, \"population\": 3155070}, {\"Unnamed: 0\": 484, \"states\": \"Kansas\", \"states_code\": \"KS\", \"id\": 20, \"year\": 2019, \"population\": 2913314}, {\"Unnamed: 0\": 485, \"states\": \"Kentucky\", \"states_code\": \"KY\", \"id\": 21, \"year\": 2019, \"population\": 4467673}, {\"Unnamed: 0\": 486, \"states\": \"Louisiana\", \"states_code\": \"LA\", \"id\": 22, \"year\": 2019, \"population\": 4648794}, {\"Unnamed: 0\": 487, \"states\": \"Maine\", \"states_code\": \"ME\", \"id\": 23, \"year\": 2019, \"population\": 1344212}, {\"Unnamed: 0\": 488, \"states\": \"Maryland\", \"states_code\": \"MD\", \"id\": 24, \"year\": 2019, \"population\": 6045680}, {\"Unnamed: 0\": 489, \"states\": \"Massachusetts\", \"states_code\": \"MA\", \"id\": 25, \"year\": 2019, \"population\": 6892503}, {\"Unnamed: 0\": 490, \"states\": \"Michigan\", \"states_code\": \"MI\", \"id\": 26, \"year\": 2019, \"population\": 9986857}, {\"Unnamed: 0\": 491, \"states\": \"Minnesota\", \"states_code\": \"MN\", \"id\": 27, \"year\": 2019, \"population\": 5639632}, {\"Unnamed: 0\": 492, \"states\": \"Mississippi\", \"states_code\": \"MS\", \"id\": 28, \"year\": 2019, \"population\": 2976149}, {\"Unnamed: 0\": 493, \"states\": \"Missouri\", \"states_code\": \"MO\", \"id\": 29, \"year\": 2019, \"population\": 6137428}, {\"Unnamed: 0\": 494, \"states\": \"Montana\", \"states_code\": \"MT\", \"id\": 30, \"year\": 2019, \"population\": 1068778}, {\"Unnamed: 0\": 495, \"states\": \"Nebraska\", \"states_code\": \"NE\", \"id\": 31, \"year\": 2019, \"population\": 1934408}, {\"Unnamed: 0\": 496, \"states\": \"Nevada\", \"states_code\": \"NV\", \"id\": 32, \"year\": 2019, \"population\": 3080156}, {\"Unnamed: 0\": 497, \"states\": \"New Hampshire\", \"states_code\": \"NH\", \"id\": 33, \"year\": 2019, \"population\": 1359711}, {\"Unnamed: 0\": 498, \"states\": \"New Jersey\", \"states_code\": \"NJ\", \"id\": 34, \"year\": 2019, \"population\": 8882190}, {\"Unnamed: 0\": 499, \"states\": \"New Mexico\", \"states_code\": \"NM\", \"id\": 35, \"year\": 2019, \"population\": 2096829}, {\"Unnamed: 0\": 500, \"states\": \"New York\", \"states_code\": \"NY\", \"id\": 36, \"year\": 2019, \"population\": 19453561}, {\"Unnamed: 0\": 501, \"states\": \"North Carolina\", \"states_code\": \"NC\", \"id\": 37, \"year\": 2019, \"population\": 10488084}, {\"Unnamed: 0\": 502, \"states\": \"North Dakota\", \"states_code\": \"ND\", \"id\": 38, \"year\": 2019, \"population\": 762062}, {\"Unnamed: 0\": 503, \"states\": \"Ohio\", \"states_code\": \"OH\", \"id\": 39, \"year\": 2019, \"population\": 11689100}, {\"Unnamed: 0\": 504, \"states\": \"Oklahoma\", \"states_code\": \"OK\", \"id\": 40, \"year\": 2019, \"population\": 3956971}, {\"Unnamed: 0\": 505, \"states\": \"Oregon\", \"states_code\": \"OR\", \"id\": 41, \"year\": 2019, \"population\": 4217737}, {\"Unnamed: 0\": 506, \"states\": \"Pennsylvania\", \"states_code\": \"PA\", \"id\": 42, \"year\": 2019, \"population\": 12801989}, {\"Unnamed: 0\": 507, \"states\": \"Rhode Island\", \"states_code\": \"RI\", \"id\": 44, \"year\": 2019, \"population\": 1059361}, {\"Unnamed: 0\": 508, \"states\": \"South Carolina\", \"states_code\": \"SC\", \"id\": 45, \"year\": 2019, \"population\": 5148714}, {\"Unnamed: 0\": 509, \"states\": \"South Dakota\", \"states_code\": \"SD\", \"id\": 46, \"year\": 2019, \"population\": 884659}, {\"Unnamed: 0\": 510, \"states\": \"Tennessee\", \"states_code\": \"TN\", \"id\": 47, \"year\": 2019, \"population\": 6829174}, {\"Unnamed: 0\": 511, \"states\": \"Texas\", \"states_code\": \"TX\", \"id\": 48, \"year\": 2019, \"population\": 28995881}, {\"Unnamed: 0\": 512, \"states\": \"Utah\", \"states_code\": \"UT\", \"id\": 49, \"year\": 2019, \"population\": 3205958}, {\"Unnamed: 0\": 513, \"states\": \"Vermont\", \"states_code\": \"VT\", \"id\": 50, \"year\": 2019, \"population\": 623989}, {\"Unnamed: 0\": 514, \"states\": \"Virginia\", \"states_code\": \"VA\", \"id\": 51, \"year\": 2019, \"population\": 8535519}, {\"Unnamed: 0\": 515, \"states\": \"Washington\", \"states_code\": \"WA\", \"id\": 53, \"year\": 2019, \"population\": 7614893}, {\"Unnamed: 0\": 516, \"states\": \"West Virginia\", \"states_code\": \"WV\", \"id\": 54, \"year\": 2019, \"population\": 1792147}, {\"Unnamed: 0\": 517, \"states\": \"Wisconsin\", \"states_code\": \"WI\", \"id\": 55, \"year\": 2019, \"population\": 5822434}, {\"Unnamed: 0\": 518, \"states\": \"Wyoming\", \"states_code\": \"WY\", \"id\": 56, \"year\": 2019, \"population\": 578759}, {\"Unnamed: 0\": 519, \"states\": \"Puerto Rico\", \"states_code\": \"PR\", \"id\": 72, \"year\": 2019, \"population\": 3193694}]}}, {\"mode\": \"vega-lite\"});\n",
       "</script>"
      ],
      "text/plain": [
       "alt.Chart(...)"
      ]
     },
     "execution_count": 7,
     "metadata": {},
     "output_type": "execute_result"
    }
   ],
   "source": [
    "    heatmap = make_heatmap(df_reshaped, 'year', 'states', 'population', 'blues')\n",
    "    heatmap"
   ]
  },
  {
   "cell_type": "code",
   "execution_count": 32,
   "id": "6e61ffae-6a32-4d2d-89f4-2e3405183f9d",
   "metadata": {},
   "outputs": [
    {
     "data": {
      "text/plain": [
       "0          JHAPA\n",
       "1           ILAM\n",
       "2      PANCHTHAR\n",
       "3      TAPLEJUNG\n",
       "4         MORANG\n",
       "         ...    \n",
       "72        BAJURA\n",
       "73    KANCHANPUR\n",
       "74    DADELDHURA\n",
       "75       BAITADI\n",
       "76      DARCHULA\n",
       "Name: DISTRICT, Length: 77, dtype: object"
      ]
     },
     "execution_count": 32,
     "metadata": {},
     "output_type": "execute_result"
    }
   ],
   "source": [
    "#import data for Nepal\n",
    "import geopandas as gpd\n",
    "\n",
    "#read in once\n",
    "df_nepaldistricts = gpd.read_file('nepal-with-districts.geojson')\n",
    "df_nepaldistricts.DISTRICT"
   ]
  },
  {
   "cell_type": "code",
   "execution_count": 35,
   "id": "b4e511f3-7e11-482b-bb12-15771b3e9430",
   "metadata": {},
   "outputs": [
    {
     "name": "stdout",
     "output_type": "stream",
     "text": [
      "JHAPA , 5\n",
      "ILAM , 5\n",
      "PANCHTHAR , 2\n",
      "TAPLEJUNG , 5\n",
      "MORANG , 5\n",
      "SUNSARI , 5\n",
      "BHOJPUR , 5\n",
      "DHANKUTA , 4\n",
      "TEHRATHUM , 3\n",
      "SANKHUWASABHA , 2\n",
      "SAPTARI , 5\n",
      "SIRAHA , 5\n",
      "UDAYAPUR , 1\n",
      "KHOTANG , 1\n",
      "OKHALDHUNGA , 4\n",
      "SOLUKHUMBU , 0\n",
      "DHANUSA , 2\n",
      "MAHOTTARI , 4\n",
      "SARLAHI , 5\n",
      "SINDHULI , 3\n",
      "RAMECHHAP , 4\n",
      "DOLAKHA , 2\n",
      "BHAKTAPUR , 1\n",
      "DHADING , 0\n",
      "KATHMANDU , 1\n",
      "KAVREPALANCHOWK , 4\n",
      "LALITPUR , 1\n",
      "NUWAKOT , 1\n",
      "RASUWA , 4\n",
      "SINDHUPALCHOK , 2\n",
      "BARA , 0\n",
      "PARSA , 0\n",
      "RAUTAHAT , 0\n",
      "CHITWAN , 5\n",
      "MAKWANPUR , 4\n",
      "GORKHA , 1\n",
      "KASKI , 5\n",
      "LAMJUNG , 2\n",
      "SYANGJA , 2\n",
      "TANAHU , 5\n",
      "MANANG , 1\n",
      "KAPILVASTU , 0\n",
      "NAWALPUR , 4\n",
      "PARASI , 5\n",
      "RUPANDEHI , 2\n",
      "ARGHAKHANCHI , 2\n",
      "GULMI , 5\n",
      "PALPA , 4\n",
      "BAGLUNG , 4\n",
      "MYAGDI , 1\n",
      "PARBAT , 5\n",
      "MUSTANG , 2\n",
      "DANG , 0\n",
      "PYUTHAN , 3\n",
      "ROLPA , 4\n",
      "EASTERN RUKUM , 1\n",
      "WESTERN RUKUM , 2\n",
      "SALYAN , 4\n",
      "DOLPA , 3\n",
      "HUMLA , 4\n",
      "JUMLA , 2\n",
      "KALIKOT , 3\n",
      "MUGU , 2\n",
      "BANKE , 1\n",
      "BARDIYA , 0\n",
      "SURKHET , 5\n",
      "DAILEKH , 4\n",
      "JAJARKOT , 0\n",
      "KAILALI , 0\n",
      "ACHHAM , 1\n",
      "DOTI , 3\n",
      "BAJHANG , 4\n",
      "BAJURA , 3\n",
      "KANCHANPUR , 4\n",
      "DADELDHURA , 4\n",
      "BAITADI , 0\n",
      "DARCHULA , 0\n"
     ]
    }
   ],
   "source": [
    "import random\n",
    "for i in df_nepaldistricts.DISTRICT:\n",
    "    print(i,',',random.randint(0,5))"
   ]
  },
  {
   "cell_type": "code",
   "execution_count": 27,
   "id": "7576ce8a-7120-4597-8f9b-524e266bb813",
   "metadata": {},
   "outputs": [],
   "source": [
    "#define cholropleth map  for Nepal  \n",
    "def make_choropleth(input_df, input_id, input_column, input_color_theme):\n",
    "    choropleth = px.choropleth(input_df, locations=input_id, color=input_column, locationmode=None,\n",
    "                               color_continuous_scale=input_color_theme,\n",
    "                               range_color=(0, max(df_selected_year.population)),\n",
    "                               scope=None,\n",
    "                               labels={'population':'Population'}\n",
    "                              )\n",
    "    choropleth.update_layout(\n",
    "        template='plotly_dark',\n",
    "        plot_bgcolor='rgba(0, 0, 0, 0)',\n",
    "        paper_bgcolor='rgba(0, 0, 0, 0)',\n",
    "        margin=dict(l=0, r=0, t=0, b=0),\n",
    "        height=350\n",
    "    )\n",
    "    return choropleth"
   ]
  },
  {
   "cell_type": "code",
   "execution_count": 28,
   "id": "e2c28f65-7281-4fcd-ac16-36e30f9004ac",
   "metadata": {},
   "outputs": [
    {
     "data": {
      "application/vnd.plotly.v1+json": {
       "config": {
        "plotlyServerURL": "https://plot.ly"
       },
       "data": [
        {
         "coloraxis": "coloraxis",
         "geo": "geo",
         "hovertemplate": "DISTRICT=%{location}<br>PROVINCE=%{z}<extra></extra>",
         "locations": [
          "JHAPA",
          "ILAM",
          "PANCHTHAR",
          "TAPLEJUNG",
          "MORANG",
          "SUNSARI",
          "BHOJPUR",
          "DHANKUTA",
          "TEHRATHUM",
          "SANKHUWASABHA",
          "SAPTARI",
          "SIRAHA",
          "UDAYAPUR",
          "KHOTANG",
          "OKHALDHUNGA",
          "SOLUKHUMBU",
          "DHANUSA",
          "MAHOTTARI",
          "SARLAHI",
          "SINDHULI",
          "RAMECHHAP",
          "DOLAKHA",
          "BHAKTAPUR",
          "DHADING",
          "KATHMANDU",
          "KAVREPALANCHOWK",
          "LALITPUR",
          "NUWAKOT",
          "RASUWA",
          "SINDHUPALCHOK",
          "BARA",
          "PARSA",
          "RAUTAHAT",
          "CHITWAN",
          "MAKWANPUR",
          "GORKHA",
          "KASKI",
          "LAMJUNG",
          "SYANGJA",
          "TANAHU",
          "MANANG",
          "KAPILVASTU",
          "NAWALPUR",
          "PARASI",
          "RUPANDEHI",
          "ARGHAKHANCHI",
          "GULMI",
          "PALPA",
          "BAGLUNG",
          "MYAGDI",
          "PARBAT",
          "MUSTANG",
          "DANG",
          "PYUTHAN",
          "ROLPA",
          "EASTERN RUKUM",
          "WESTERN RUKUM",
          "SALYAN",
          "DOLPA",
          "HUMLA",
          "JUMLA",
          "KALIKOT",
          "MUGU",
          "BANKE",
          "BARDIYA",
          "SURKHET",
          "DAILEKH",
          "JAJARKOT",
          "KAILALI",
          "ACHHAM",
          "DOTI",
          "BAJHANG",
          "BAJURA",
          "KANCHANPUR",
          "DADELDHURA",
          "BAITADI",
          "DARCHULA"
         ],
         "name": "",
         "type": "choropleth",
         "z": [
          1,
          1,
          1,
          1,
          1,
          1,
          1,
          1,
          1,
          1,
          2,
          2,
          1,
          1,
          1,
          1,
          2,
          2,
          2,
          3,
          3,
          3,
          3,
          3,
          3,
          3,
          3,
          3,
          3,
          3,
          2,
          2,
          2,
          3,
          3,
          4,
          4,
          4,
          4,
          4,
          4,
          5,
          4,
          5,
          5,
          5,
          5,
          5,
          4,
          4,
          4,
          4,
          5,
          5,
          5,
          5,
          6,
          6,
          6,
          6,
          6,
          6,
          6,
          5,
          5,
          6,
          6,
          6,
          7,
          7,
          7,
          7,
          7,
          7,
          7,
          7,
          7
         ]
        }
       ],
       "layout": {
        "autosize": true,
        "coloraxis": {
         "cmax": 37638369,
         "cmin": 0,
         "colorbar": {
          "title": {
           "text": "PROVINCE"
          }
         },
         "colorscale": [
          [
           0,
           "rgb(247,251,255)"
          ],
          [
           0.125,
           "rgb(222,235,247)"
          ],
          [
           0.25,
           "rgb(198,219,239)"
          ],
          [
           0.375,
           "rgb(158,202,225)"
          ],
          [
           0.5,
           "rgb(107,174,214)"
          ],
          [
           0.625,
           "rgb(66,146,198)"
          ],
          [
           0.75,
           "rgb(33,113,181)"
          ],
          [
           0.875,
           "rgb(8,81,156)"
          ],
          [
           1,
           "rgb(8,48,107)"
          ]
         ]
        },
        "geo": {
         "center": {
          "lat": 19.209659160009235,
          "lon": 35.31366300558288
         },
         "domain": {
          "x": [
           0,
           1
          ],
          "y": [
           0,
           1
          ]
         },
         "projection": {
          "rotation": {
           "lon": 35.31366300558288
          },
          "scale": 1.1328838852957968
         }
        },
        "legend": {
         "tracegroupgap": 0
        },
        "margin": {
         "b": 0,
         "l": 0,
         "r": 0,
         "t": 0
        },
        "paper_bgcolor": "rgba(0, 0, 0, 0)",
        "plot_bgcolor": "rgba(0, 0, 0, 0)",
        "template": {
         "data": {
          "bar": [
           {
            "error_x": {
             "color": "#f2f5fa"
            },
            "error_y": {
             "color": "#f2f5fa"
            },
            "marker": {
             "line": {
              "color": "rgb(17,17,17)",
              "width": 0.5
             },
             "pattern": {
              "fillmode": "overlay",
              "size": 10,
              "solidity": 0.2
             }
            },
            "type": "bar"
           }
          ],
          "barpolar": [
           {
            "marker": {
             "line": {
              "color": "rgb(17,17,17)",
              "width": 0.5
             },
             "pattern": {
              "fillmode": "overlay",
              "size": 10,
              "solidity": 0.2
             }
            },
            "type": "barpolar"
           }
          ],
          "carpet": [
           {
            "aaxis": {
             "endlinecolor": "#A2B1C6",
             "gridcolor": "#506784",
             "linecolor": "#506784",
             "minorgridcolor": "#506784",
             "startlinecolor": "#A2B1C6"
            },
            "baxis": {
             "endlinecolor": "#A2B1C6",
             "gridcolor": "#506784",
             "linecolor": "#506784",
             "minorgridcolor": "#506784",
             "startlinecolor": "#A2B1C6"
            },
            "type": "carpet"
           }
          ],
          "choropleth": [
           {
            "colorbar": {
             "outlinewidth": 0,
             "ticks": ""
            },
            "type": "choropleth"
           }
          ],
          "contour": [
           {
            "colorbar": {
             "outlinewidth": 0,
             "ticks": ""
            },
            "colorscale": [
             [
              0,
              "#0d0887"
             ],
             [
              0.1111111111111111,
              "#46039f"
             ],
             [
              0.2222222222222222,
              "#7201a8"
             ],
             [
              0.3333333333333333,
              "#9c179e"
             ],
             [
              0.4444444444444444,
              "#bd3786"
             ],
             [
              0.5555555555555556,
              "#d8576b"
             ],
             [
              0.6666666666666666,
              "#ed7953"
             ],
             [
              0.7777777777777778,
              "#fb9f3a"
             ],
             [
              0.8888888888888888,
              "#fdca26"
             ],
             [
              1,
              "#f0f921"
             ]
            ],
            "type": "contour"
           }
          ],
          "contourcarpet": [
           {
            "colorbar": {
             "outlinewidth": 0,
             "ticks": ""
            },
            "type": "contourcarpet"
           }
          ],
          "heatmap": [
           {
            "colorbar": {
             "outlinewidth": 0,
             "ticks": ""
            },
            "colorscale": [
             [
              0,
              "#0d0887"
             ],
             [
              0.1111111111111111,
              "#46039f"
             ],
             [
              0.2222222222222222,
              "#7201a8"
             ],
             [
              0.3333333333333333,
              "#9c179e"
             ],
             [
              0.4444444444444444,
              "#bd3786"
             ],
             [
              0.5555555555555556,
              "#d8576b"
             ],
             [
              0.6666666666666666,
              "#ed7953"
             ],
             [
              0.7777777777777778,
              "#fb9f3a"
             ],
             [
              0.8888888888888888,
              "#fdca26"
             ],
             [
              1,
              "#f0f921"
             ]
            ],
            "type": "heatmap"
           }
          ],
          "heatmapgl": [
           {
            "colorbar": {
             "outlinewidth": 0,
             "ticks": ""
            },
            "colorscale": [
             [
              0,
              "#0d0887"
             ],
             [
              0.1111111111111111,
              "#46039f"
             ],
             [
              0.2222222222222222,
              "#7201a8"
             ],
             [
              0.3333333333333333,
              "#9c179e"
             ],
             [
              0.4444444444444444,
              "#bd3786"
             ],
             [
              0.5555555555555556,
              "#d8576b"
             ],
             [
              0.6666666666666666,
              "#ed7953"
             ],
             [
              0.7777777777777778,
              "#fb9f3a"
             ],
             [
              0.8888888888888888,
              "#fdca26"
             ],
             [
              1,
              "#f0f921"
             ]
            ],
            "type": "heatmapgl"
           }
          ],
          "histogram": [
           {
            "marker": {
             "pattern": {
              "fillmode": "overlay",
              "size": 10,
              "solidity": 0.2
             }
            },
            "type": "histogram"
           }
          ],
          "histogram2d": [
           {
            "colorbar": {
             "outlinewidth": 0,
             "ticks": ""
            },
            "colorscale": [
             [
              0,
              "#0d0887"
             ],
             [
              0.1111111111111111,
              "#46039f"
             ],
             [
              0.2222222222222222,
              "#7201a8"
             ],
             [
              0.3333333333333333,
              "#9c179e"
             ],
             [
              0.4444444444444444,
              "#bd3786"
             ],
             [
              0.5555555555555556,
              "#d8576b"
             ],
             [
              0.6666666666666666,
              "#ed7953"
             ],
             [
              0.7777777777777778,
              "#fb9f3a"
             ],
             [
              0.8888888888888888,
              "#fdca26"
             ],
             [
              1,
              "#f0f921"
             ]
            ],
            "type": "histogram2d"
           }
          ],
          "histogram2dcontour": [
           {
            "colorbar": {
             "outlinewidth": 0,
             "ticks": ""
            },
            "colorscale": [
             [
              0,
              "#0d0887"
             ],
             [
              0.1111111111111111,
              "#46039f"
             ],
             [
              0.2222222222222222,
              "#7201a8"
             ],
             [
              0.3333333333333333,
              "#9c179e"
             ],
             [
              0.4444444444444444,
              "#bd3786"
             ],
             [
              0.5555555555555556,
              "#d8576b"
             ],
             [
              0.6666666666666666,
              "#ed7953"
             ],
             [
              0.7777777777777778,
              "#fb9f3a"
             ],
             [
              0.8888888888888888,
              "#fdca26"
             ],
             [
              1,
              "#f0f921"
             ]
            ],
            "type": "histogram2dcontour"
           }
          ],
          "mesh3d": [
           {
            "colorbar": {
             "outlinewidth": 0,
             "ticks": ""
            },
            "type": "mesh3d"
           }
          ],
          "parcoords": [
           {
            "line": {
             "colorbar": {
              "outlinewidth": 0,
              "ticks": ""
             }
            },
            "type": "parcoords"
           }
          ],
          "pie": [
           {
            "automargin": true,
            "type": "pie"
           }
          ],
          "scatter": [
           {
            "marker": {
             "line": {
              "color": "#283442"
             }
            },
            "type": "scatter"
           }
          ],
          "scatter3d": [
           {
            "line": {
             "colorbar": {
              "outlinewidth": 0,
              "ticks": ""
             }
            },
            "marker": {
             "colorbar": {
              "outlinewidth": 0,
              "ticks": ""
             }
            },
            "type": "scatter3d"
           }
          ],
          "scattercarpet": [
           {
            "marker": {
             "colorbar": {
              "outlinewidth": 0,
              "ticks": ""
             }
            },
            "type": "scattercarpet"
           }
          ],
          "scattergeo": [
           {
            "marker": {
             "colorbar": {
              "outlinewidth": 0,
              "ticks": ""
             }
            },
            "type": "scattergeo"
           }
          ],
          "scattergl": [
           {
            "marker": {
             "line": {
              "color": "#283442"
             }
            },
            "type": "scattergl"
           }
          ],
          "scattermapbox": [
           {
            "marker": {
             "colorbar": {
              "outlinewidth": 0,
              "ticks": ""
             }
            },
            "type": "scattermapbox"
           }
          ],
          "scatterpolar": [
           {
            "marker": {
             "colorbar": {
              "outlinewidth": 0,
              "ticks": ""
             }
            },
            "type": "scatterpolar"
           }
          ],
          "scatterpolargl": [
           {
            "marker": {
             "colorbar": {
              "outlinewidth": 0,
              "ticks": ""
             }
            },
            "type": "scatterpolargl"
           }
          ],
          "scatterternary": [
           {
            "marker": {
             "colorbar": {
              "outlinewidth": 0,
              "ticks": ""
             }
            },
            "type": "scatterternary"
           }
          ],
          "surface": [
           {
            "colorbar": {
             "outlinewidth": 0,
             "ticks": ""
            },
            "colorscale": [
             [
              0,
              "#0d0887"
             ],
             [
              0.1111111111111111,
              "#46039f"
             ],
             [
              0.2222222222222222,
              "#7201a8"
             ],
             [
              0.3333333333333333,
              "#9c179e"
             ],
             [
              0.4444444444444444,
              "#bd3786"
             ],
             [
              0.5555555555555556,
              "#d8576b"
             ],
             [
              0.6666666666666666,
              "#ed7953"
             ],
             [
              0.7777777777777778,
              "#fb9f3a"
             ],
             [
              0.8888888888888888,
              "#fdca26"
             ],
             [
              1,
              "#f0f921"
             ]
            ],
            "type": "surface"
           }
          ],
          "table": [
           {
            "cells": {
             "fill": {
              "color": "#506784"
             },
             "line": {
              "color": "rgb(17,17,17)"
             }
            },
            "header": {
             "fill": {
              "color": "#2a3f5f"
             },
             "line": {
              "color": "rgb(17,17,17)"
             }
            },
            "type": "table"
           }
          ]
         },
         "layout": {
          "annotationdefaults": {
           "arrowcolor": "#f2f5fa",
           "arrowhead": 0,
           "arrowwidth": 1
          },
          "autotypenumbers": "strict",
          "coloraxis": {
           "colorbar": {
            "outlinewidth": 0,
            "ticks": ""
           }
          },
          "colorscale": {
           "diverging": [
            [
             0,
             "#8e0152"
            ],
            [
             0.1,
             "#c51b7d"
            ],
            [
             0.2,
             "#de77ae"
            ],
            [
             0.3,
             "#f1b6da"
            ],
            [
             0.4,
             "#fde0ef"
            ],
            [
             0.5,
             "#f7f7f7"
            ],
            [
             0.6,
             "#e6f5d0"
            ],
            [
             0.7,
             "#b8e186"
            ],
            [
             0.8,
             "#7fbc41"
            ],
            [
             0.9,
             "#4d9221"
            ],
            [
             1,
             "#276419"
            ]
           ],
           "sequential": [
            [
             0,
             "#0d0887"
            ],
            [
             0.1111111111111111,
             "#46039f"
            ],
            [
             0.2222222222222222,
             "#7201a8"
            ],
            [
             0.3333333333333333,
             "#9c179e"
            ],
            [
             0.4444444444444444,
             "#bd3786"
            ],
            [
             0.5555555555555556,
             "#d8576b"
            ],
            [
             0.6666666666666666,
             "#ed7953"
            ],
            [
             0.7777777777777778,
             "#fb9f3a"
            ],
            [
             0.8888888888888888,
             "#fdca26"
            ],
            [
             1,
             "#f0f921"
            ]
           ],
           "sequentialminus": [
            [
             0,
             "#0d0887"
            ],
            [
             0.1111111111111111,
             "#46039f"
            ],
            [
             0.2222222222222222,
             "#7201a8"
            ],
            [
             0.3333333333333333,
             "#9c179e"
            ],
            [
             0.4444444444444444,
             "#bd3786"
            ],
            [
             0.5555555555555556,
             "#d8576b"
            ],
            [
             0.6666666666666666,
             "#ed7953"
            ],
            [
             0.7777777777777778,
             "#fb9f3a"
            ],
            [
             0.8888888888888888,
             "#fdca26"
            ],
            [
             1,
             "#f0f921"
            ]
           ]
          },
          "colorway": [
           "#636efa",
           "#EF553B",
           "#00cc96",
           "#ab63fa",
           "#FFA15A",
           "#19d3f3",
           "#FF6692",
           "#B6E880",
           "#FF97FF",
           "#FECB52"
          ],
          "font": {
           "color": "#f2f5fa"
          },
          "geo": {
           "bgcolor": "rgb(17,17,17)",
           "lakecolor": "rgb(17,17,17)",
           "landcolor": "rgb(17,17,17)",
           "showlakes": true,
           "showland": true,
           "subunitcolor": "#506784"
          },
          "hoverlabel": {
           "align": "left"
          },
          "hovermode": "closest",
          "mapbox": {
           "style": "dark"
          },
          "paper_bgcolor": "rgb(17,17,17)",
          "plot_bgcolor": "rgb(17,17,17)",
          "polar": {
           "angularaxis": {
            "gridcolor": "#506784",
            "linecolor": "#506784",
            "ticks": ""
           },
           "bgcolor": "rgb(17,17,17)",
           "radialaxis": {
            "gridcolor": "#506784",
            "linecolor": "#506784",
            "ticks": ""
           }
          },
          "scene": {
           "xaxis": {
            "backgroundcolor": "rgb(17,17,17)",
            "gridcolor": "#506784",
            "gridwidth": 2,
            "linecolor": "#506784",
            "showbackground": true,
            "ticks": "",
            "zerolinecolor": "#C8D4E3"
           },
           "yaxis": {
            "backgroundcolor": "rgb(17,17,17)",
            "gridcolor": "#506784",
            "gridwidth": 2,
            "linecolor": "#506784",
            "showbackground": true,
            "ticks": "",
            "zerolinecolor": "#C8D4E3"
           },
           "zaxis": {
            "backgroundcolor": "rgb(17,17,17)",
            "gridcolor": "#506784",
            "gridwidth": 2,
            "linecolor": "#506784",
            "showbackground": true,
            "ticks": "",
            "zerolinecolor": "#C8D4E3"
           }
          },
          "shapedefaults": {
           "line": {
            "color": "#f2f5fa"
           }
          },
          "sliderdefaults": {
           "bgcolor": "#C8D4E3",
           "bordercolor": "rgb(17,17,17)",
           "borderwidth": 1,
           "tickwidth": 0
          },
          "ternary": {
           "aaxis": {
            "gridcolor": "#506784",
            "linecolor": "#506784",
            "ticks": ""
           },
           "baxis": {
            "gridcolor": "#506784",
            "linecolor": "#506784",
            "ticks": ""
           },
           "bgcolor": "rgb(17,17,17)",
           "caxis": {
            "gridcolor": "#506784",
            "linecolor": "#506784",
            "ticks": ""
           }
          },
          "title": {
           "x": 0.05
          },
          "updatemenudefaults": {
           "bgcolor": "#506784",
           "borderwidth": 0
          },
          "xaxis": {
           "automargin": true,
           "gridcolor": "#283442",
           "linecolor": "#506784",
           "ticks": "",
           "title": {
            "standoff": 15
           },
           "zerolinecolor": "#283442",
           "zerolinewidth": 2
          },
          "yaxis": {
           "automargin": true,
           "gridcolor": "#283442",
           "linecolor": "#506784",
           "ticks": "",
           "title": {
            "standoff": 15
           },
           "zerolinecolor": "#283442",
           "zerolinewidth": 2
          }
         }
        }
       }
      },
      "image/png": "[encoded data removed]",
      "text/html": [
       "<div>                            <div id=\"51c82535-8213-4a4c-a14c-fafdeb5e8edb\" class=\"plotly-graph-div\" style=\"height:350px; width:100%;\"></div>            <script type=\"text/javascript\">                require([\"plotly\"], function(Plotly) {                    window.PLOTLYENV=window.PLOTLYENV || {};                                    if (document.getElementById(\"51c82535-8213-4a4c-a14c-fafdeb5e8edb\")) {                    Plotly.newPlot(                        \"51c82535-8213-4a4c-a14c-fafdeb5e8edb\",                        [{\"coloraxis\":\"coloraxis\",\"geo\":\"geo\",\"hovertemplate\":\"DISTRICT=%{location}\\u003cbr\\u003ePROVINCE=%{z}\\u003cextra\\u003e\\u003c\\u002fextra\\u003e\",\"locations\":[\"JHAPA\",\"ILAM\",\"PANCHTHAR\",\"TAPLEJUNG\",\"MORANG\",\"SUNSARI\",\"BHOJPUR\",\"DHANKUTA\",\"TEHRATHUM\",\"SANKHUWASABHA\",\"SAPTARI\",\"SIRAHA\",\"UDAYAPUR\",\"KHOTANG\",\"OKHALDHUNGA\",\"SOLUKHUMBU\",\"DHANUSA\",\"MAHOTTARI\",\"SARLAHI\",\"SINDHULI\",\"RAMECHHAP\",\"DOLAKHA\",\"BHAKTAPUR\",\"DHADING\",\"KATHMANDU\",\"KAVREPALANCHOWK\",\"LALITPUR\",\"NUWAKOT\",\"RASUWA\",\"SINDHUPALCHOK\",\"BARA\",\"PARSA\",\"RAUTAHAT\",\"CHITWAN\",\"MAKWANPUR\",\"GORKHA\",\"KASKI\",\"LAMJUNG\",\"SYANGJA\",\"TANAHU\",\"MANANG\",\"KAPILVASTU\",\"NAWALPUR\",\"PARASI\",\"RUPANDEHI\",\"ARGHAKHANCHI\",\"GULMI\",\"PALPA\",\"BAGLUNG\",\"MYAGDI\",\"PARBAT\",\"MUSTANG\",\"DANG\",\"PYUTHAN\",\"ROLPA\",\"EASTERN RUKUM\",\"WESTERN RUKUM\",\"SALYAN\",\"DOLPA\",\"HUMLA\",\"JUMLA\",\"KALIKOT\",\"MUGU\",\"BANKE\",\"BARDIYA\",\"SURKHET\",\"DAILEKH\",\"JAJARKOT\",\"KAILALI\",\"ACHHAM\",\"DOTI\",\"BAJHANG\",\"BAJURA\",\"KANCHANPUR\",\"DADELDHURA\",\"BAITADI\",\"DARCHULA\"],\"name\":\"\",\"z\":[1,1,1,1,1,1,1,1,1,1,2,2,1,1,1,1,2,2,2,3,3,3,3,3,3,3,3,3,3,3,2,2,2,3,3,4,4,4,4,4,4,5,4,5,5,5,5,5,4,4,4,4,5,5,5,5,6,6,6,6,6,6,6,5,5,6,6,6,7,7,7,7,7,7,7,7,7],\"type\":\"choropleth\"}],                        {\"template\":{\"data\":{\"barpolar\":[{\"marker\":{\"line\":{\"color\":\"rgb(17,17,17)\",\"width\":0.5},\"pattern\":{\"fillmode\":\"overlay\",\"size\":10,\"solidity\":0.2}},\"type\":\"barpolar\"}],\"bar\":[{\"error_x\":{\"color\":\"#f2f5fa\"},\"error_y\":{\"color\":\"#f2f5fa\"},\"marker\":{\"line\":{\"color\":\"rgb(17,17,17)\",\"width\":0.5},\"pattern\":{\"fillmode\":\"overlay\",\"size\":10,\"solidity\":0.2}},\"type\":\"bar\"}],\"carpet\":[{\"aaxis\":{\"endlinecolor\":\"#A2B1C6\",\"gridcolor\":\"#506784\",\"linecolor\":\"#506784\",\"minorgridcolor\":\"#506784\",\"startlinecolor\":\"#A2B1C6\"},\"baxis\":{\"endlinecolor\":\"#A2B1C6\",\"gridcolor\":\"#506784\",\"linecolor\":\"#506784\",\"minorgridcolor\":\"#506784\",\"startlinecolor\":\"#A2B1C6\"},\"type\":\"carpet\"}],\"choropleth\":[{\"colorbar\":{\"outlinewidth\":0,\"ticks\":\"\"},\"type\":\"choropleth\"}],\"contourcarpet\":[{\"colorbar\":{\"outlinewidth\":0,\"ticks\":\"\"},\"type\":\"contourcarpet\"}],\"contour\":[{\"colorbar\":{\"outlinewidth\":0,\"ticks\":\"\"},\"colorscale\":[[0.0,\"#0d0887\"],[0.1111111111111111,\"#46039f\"],[0.2222222222222222,\"#7201a8\"],[0.3333333333333333,\"#9c179e\"],[0.4444444444444444,\"#bd3786\"],[0.5555555555555556,\"#d8576b\"],[0.6666666666666666,\"#ed7953\"],[0.7777777777777778,\"#fb9f3a\"],[0.8888888888888888,\"#fdca26\"],[1.0,\"#f0f921\"]],\"type\":\"contour\"}],\"heatmapgl\":[{\"colorbar\":{\"outlinewidth\":0,\"ticks\":\"\"},\"colorscale\":[[0.0,\"#0d0887\"],[0.1111111111111111,\"#46039f\"],[0.2222222222222222,\"#7201a8\"],[0.3333333333333333,\"#9c179e\"],[0.4444444444444444,\"#bd3786\"],[0.5555555555555556,\"#d8576b\"],[0.6666666666666666,\"#ed7953\"],[0.7777777777777778,\"#fb9f3a\"],[0.8888888888888888,\"#fdca26\"],[1.0,\"#f0f921\"]],\"type\":\"heatmapgl\"}],\"heatmap\":[{\"colorbar\":{\"outlinewidth\":0,\"ticks\":\"\"},\"colorscale\":[[0.0,\"#0d0887\"],[0.1111111111111111,\"#46039f\"],[0.2222222222222222,\"#7201a8\"],[0.3333333333333333,\"#9c179e\"],[0.4444444444444444,\"#bd3786\"],[0.5555555555555556,\"#d8576b\"],[0.6666666666666666,\"#ed7953\"],[0.7777777777777778,\"#fb9f3a\"],[0.8888888888888888,\"#fdca26\"],[1.0,\"#f0f921\"]],\"type\":\"heatmap\"}],\"histogram2dcontour\":[{\"colorbar\":{\"outlinewidth\":0,\"ticks\":\"\"},\"colorscale\":[[0.0,\"#0d0887\"],[0.1111111111111111,\"#46039f\"],[0.2222222222222222,\"#7201a8\"],[0.3333333333333333,\"#9c179e\"],[0.4444444444444444,\"#bd3786\"],[0.5555555555555556,\"#d8576b\"],[0.6666666666666666,\"#ed7953\"],[0.7777777777777778,\"#fb9f3a\"],[0.8888888888888888,\"#fdca26\"],[1.0,\"#f0f921\"]],\"type\":\"histogram2dcontour\"}],\"histogram2d\":[{\"colorbar\":{\"outlinewidth\":0,\"ticks\":\"\"},\"colorscale\":[[0.0,\"#0d0887\"],[0.1111111111111111,\"#46039f\"],[0.2222222222222222,\"#7201a8\"],[0.3333333333333333,\"#9c179e\"],[0.4444444444444444,\"#bd3786\"],[0.5555555555555556,\"#d8576b\"],[0.6666666666666666,\"#ed7953\"],[0.7777777777777778,\"#fb9f3a\"],[0.8888888888888888,\"#fdca26\"],[1.0,\"#f0f921\"]],\"type\":\"histogram2d\"}],\"histogram\":[{\"marker\":{\"pattern\":{\"fillmode\":\"overlay\",\"size\":10,\"solidity\":0.2}},\"type\":\"histogram\"}],\"mesh3d\":[{\"colorbar\":{\"outlinewidth\":0,\"ticks\":\"\"},\"type\":\"mesh3d\"}],\"parcoords\":[{\"line\":{\"colorbar\":{\"outlinewidth\":0,\"ticks\":\"\"}},\"type\":\"parcoords\"}],\"pie\":[{\"automargin\":true,\"type\":\"pie\"}],\"scatter3d\":[{\"line\":{\"colorbar\":{\"outlinewidth\":0,\"ticks\":\"\"}},\"marker\":{\"colorbar\":{\"outlinewidth\":0,\"ticks\":\"\"}},\"type\":\"scatter3d\"}],\"scattercarpet\":[{\"marker\":{\"colorbar\":{\"outlinewidth\":0,\"ticks\":\"\"}},\"type\":\"scattercarpet\"}],\"scattergeo\":[{\"marker\":{\"colorbar\":{\"outlinewidth\":0,\"ticks\":\"\"}},\"type\":\"scattergeo\"}],\"scattergl\":[{\"marker\":{\"line\":{\"color\":\"#283442\"}},\"type\":\"scattergl\"}],\"scattermapbox\":[{\"marker\":{\"colorbar\":{\"outlinewidth\":0,\"ticks\":\"\"}},\"type\":\"scattermapbox\"}],\"scatterpolargl\":[{\"marker\":{\"colorbar\":{\"outlinewidth\":0,\"ticks\":\"\"}},\"type\":\"scatterpolargl\"}],\"scatterpolar\":[{\"marker\":{\"colorbar\":{\"outlinewidth\":0,\"ticks\":\"\"}},\"type\":\"scatterpolar\"}],\"scatter\":[{\"marker\":{\"line\":{\"color\":\"#283442\"}},\"type\":\"scatter\"}],\"scatterternary\":[{\"marker\":{\"colorbar\":{\"outlinewidth\":0,\"ticks\":\"\"}},\"type\":\"scatterternary\"}],\"surface\":[{\"colorbar\":{\"outlinewidth\":0,\"ticks\":\"\"},\"colorscale\":[[0.0,\"#0d0887\"],[0.1111111111111111,\"#46039f\"],[0.2222222222222222,\"#7201a8\"],[0.3333333333333333,\"#9c179e\"],[0.4444444444444444,\"#bd3786\"],[0.5555555555555556,\"#d8576b\"],[0.6666666666666666,\"#ed7953\"],[0.7777777777777778,\"#fb9f3a\"],[0.8888888888888888,\"#fdca26\"],[1.0,\"#f0f921\"]],\"type\":\"surface\"}],\"table\":[{\"cells\":{\"fill\":{\"color\":\"#506784\"},\"line\":{\"color\":\"rgb(17,17,17)\"}},\"header\":{\"fill\":{\"color\":\"#2a3f5f\"},\"line\":{\"color\":\"rgb(17,17,17)\"}},\"type\":\"table\"}]},\"layout\":{\"annotationdefaults\":{\"arrowcolor\":\"#f2f5fa\",\"arrowhead\":0,\"arrowwidth\":1},\"autotypenumbers\":\"strict\",\"coloraxis\":{\"colorbar\":{\"outlinewidth\":0,\"ticks\":\"\"}},\"colorscale\":{\"diverging\":[[0,\"#8e0152\"],[0.1,\"#c51b7d\"],[0.2,\"#de77ae\"],[0.3,\"#f1b6da\"],[0.4,\"#fde0ef\"],[0.5,\"#f7f7f7\"],[0.6,\"#e6f5d0\"],[0.7,\"#b8e186\"],[0.8,\"#7fbc41\"],[0.9,\"#4d9221\"],[1,\"#276419\"]],\"sequential\":[[0.0,\"#0d0887\"],[0.1111111111111111,\"#46039f\"],[0.2222222222222222,\"#7201a8\"],[0.3333333333333333,\"#9c179e\"],[0.4444444444444444,\"#bd3786\"],[0.5555555555555556,\"#d8576b\"],[0.6666666666666666,\"#ed7953\"],[0.7777777777777778,\"#fb9f3a\"],[0.8888888888888888,\"#fdca26\"],[1.0,\"#f0f921\"]],\"sequentialminus\":[[0.0,\"#0d0887\"],[0.1111111111111111,\"#46039f\"],[0.2222222222222222,\"#7201a8\"],[0.3333333333333333,\"#9c179e\"],[0.4444444444444444,\"#bd3786\"],[0.5555555555555556,\"#d8576b\"],[0.6666666666666666,\"#ed7953\"],[0.7777777777777778,\"#fb9f3a\"],[0.8888888888888888,\"#fdca26\"],[1.0,\"#f0f921\"]]},\"colorway\":[\"#636efa\",\"#EF553B\",\"#00cc96\",\"#ab63fa\",\"#FFA15A\",\"#19d3f3\",\"#FF6692\",\"#B6E880\",\"#FF97FF\",\"#FECB52\"],\"font\":{\"color\":\"#f2f5fa\"},\"geo\":{\"bgcolor\":\"rgb(17,17,17)\",\"lakecolor\":\"rgb(17,17,17)\",\"landcolor\":\"rgb(17,17,17)\",\"showlakes\":true,\"showland\":true,\"subunitcolor\":\"#506784\"},\"hoverlabel\":{\"align\":\"left\"},\"hovermode\":\"closest\",\"mapbox\":{\"style\":\"dark\"},\"paper_bgcolor\":\"rgb(17,17,17)\",\"plot_bgcolor\":\"rgb(17,17,17)\",\"polar\":{\"angularaxis\":{\"gridcolor\":\"#506784\",\"linecolor\":\"#506784\",\"ticks\":\"\"},\"bgcolor\":\"rgb(17,17,17)\",\"radialaxis\":{\"gridcolor\":\"#506784\",\"linecolor\":\"#506784\",\"ticks\":\"\"}},\"scene\":{\"xaxis\":{\"backgroundcolor\":\"rgb(17,17,17)\",\"gridcolor\":\"#506784\",\"gridwidth\":2,\"linecolor\":\"#506784\",\"showbackground\":true,\"ticks\":\"\",\"zerolinecolor\":\"#C8D4E3\"},\"yaxis\":{\"backgroundcolor\":\"rgb(17,17,17)\",\"gridcolor\":\"#506784\",\"gridwidth\":2,\"linecolor\":\"#506784\",\"showbackground\":true,\"ticks\":\"\",\"zerolinecolor\":\"#C8D4E3\"},\"zaxis\":{\"backgroundcolor\":\"rgb(17,17,17)\",\"gridcolor\":\"#506784\",\"gridwidth\":2,\"linecolor\":\"#506784\",\"showbackground\":true,\"ticks\":\"\",\"zerolinecolor\":\"#C8D4E3\"}},\"shapedefaults\":{\"line\":{\"color\":\"#f2f5fa\"}},\"sliderdefaults\":{\"bgcolor\":\"#C8D4E3\",\"bordercolor\":\"rgb(17,17,17)\",\"borderwidth\":1,\"tickwidth\":0},\"ternary\":{\"aaxis\":{\"gridcolor\":\"#506784\",\"linecolor\":\"#506784\",\"ticks\":\"\"},\"baxis\":{\"gridcolor\":\"#506784\",\"linecolor\":\"#506784\",\"ticks\":\"\"},\"bgcolor\":\"rgb(17,17,17)\",\"caxis\":{\"gridcolor\":\"#506784\",\"linecolor\":\"#506784\",\"ticks\":\"\"}},\"title\":{\"x\":0.05},\"updatemenudefaults\":{\"bgcolor\":\"#506784\",\"borderwidth\":0},\"xaxis\":{\"automargin\":true,\"gridcolor\":\"#283442\",\"linecolor\":\"#506784\",\"ticks\":\"\",\"title\":{\"standoff\":15},\"zerolinecolor\":\"#283442\",\"zerolinewidth\":2},\"yaxis\":{\"automargin\":true,\"gridcolor\":\"#283442\",\"linecolor\":\"#506784\",\"ticks\":\"\",\"title\":{\"standoff\":15},\"zerolinecolor\":\"#283442\",\"zerolinewidth\":2}}},\"geo\":{\"domain\":{\"x\":[0.0,1.0],\"y\":[0.0,1.0]},\"center\":{}},\"coloraxis\":{\"colorbar\":{\"title\":{\"text\":\"PROVINCE\"}},\"colorscale\":[[0.0,\"rgb(247,251,255)\"],[0.125,\"rgb(222,235,247)\"],[0.25,\"rgb(198,219,239)\"],[0.375,\"rgb(158,202,225)\"],[0.5,\"rgb(107,174,214)\"],[0.625,\"rgb(66,146,198)\"],[0.75,\"rgb(33,113,181)\"],[0.875,\"rgb(8,81,156)\"],[1.0,\"rgb(8,48,107)\"]],\"cmin\":0,\"cmax\":37638369},\"legend\":{\"tracegroupgap\":0},\"margin\":{\"t\":0,\"l\":0,\"r\":0,\"b\":0},\"plot_bgcolor\":\"rgba(0, 0, 0, 0)\",\"paper_bgcolor\":\"rgba(0, 0, 0, 0)\",\"height\":350},                        {\"responsive\": true}                    ).then(function(){\n",
       "                            \n",
       "var gd = document.getElementById('51c82535-8213-4a4c-a14c-fafdeb5e8edb');\n",
       "var x = new MutationObserver(function (mutations, observer) {{\n",
       "        var display = window.getComputedStyle(gd).display;\n",
       "        if (!display || display === 'none') {{\n",
       "            console.log([gd, 'removed!']);\n",
       "            Plotly.purge(gd);\n",
       "            observer.disconnect();\n",
       "        }}\n",
       "}});\n",
       "\n",
       "// Listen for the removal of the full notebook cells\n",
       "var notebookContainer = gd.closest('#notebook-container');\n",
       "if (notebookContainer) {{\n",
       "    x.observe(notebookContainer, {childList: true});\n",
       "}}\n",
       "\n",
       "// Listen for the clearing of the current output cell\n",
       "var outputEl = gd.closest('.output');\n",
       "if (outputEl) {{\n",
       "    x.observe(outputEl, {childList: true});\n",
       "}}\n",
       "\n",
       "                        })                };                });            </script>        </div>"
      ]
     },
     "metadata": {},
     "output_type": "display_data"
    }
   ],
   "source": [
    "df_selected_year = df_reshaped[df_reshaped.year == 2011]\n",
    "choropleth = make_choropleth(df_nepaldistricts, 'DISTRICT', 'PROVINCE', 'blues')\n",
    "choropleth"
   ]
  },
  {
   "cell_type": "code",
   "execution_count": 25,
   "id": "e18fa1dd-5f6d-40d1-be96-682af862047b",
   "metadata": {},
   "outputs": [],
   "source": [
    "#define cholropleth map \n",
    "def make_choropleth(input_df, input_id, input_column, input_color_theme):\n",
    "    choropleth = px.choropleth(input_df, locations=input_id, color=input_column, locationmode=\"USA-states\",\n",
    "                               color_continuous_scale=input_color_theme,\n",
    "                               range_color=(0, max(df_selected_year.population)),\n",
    "                               scope=\"usa\",\n",
    "                               labels={'population':'Population'}\n",
    "                              )\n",
    "    choropleth.update_layout(\n",
    "        template='plotly_dark',\n",
    "        plot_bgcolor='rgba(0, 0, 0, 0)',\n",
    "        paper_bgcolor='rgba(0, 0, 0, 0)',\n",
    "        margin=dict(l=0, r=0, t=0, b=0),\n",
    "        height=350\n",
    "    )\n",
    "    return choropleth"
   ]
  },
  {
   "cell_type": "code",
   "execution_count": 26,
   "id": "f23fd9d7-6eec-432c-a6a6-f501bc5ea6fa",
   "metadata": {},
   "outputs": [
    {
     "data": {
      "application/vnd.plotly.v1+json": {
       "config": {
        "plotlyServerURL": "https://plot.ly"
       },
       "data": [
        {
         "coloraxis": "coloraxis",
         "geo": "geo",
         "hovertemplate": "states_code=%{location}<br>Population=%{z}<extra></extra>",
         "locationmode": "USA-states",
         "locations": [
          "AL",
          "AK",
          "AZ",
          "AR",
          "CA",
          "CO",
          "CT",
          "DE",
          "DC",
          "FL",
          "GA",
          "HI",
          "ID",
          "IL",
          "IN",
          "IA",
          "KS",
          "KY",
          "LA",
          "ME",
          "MD",
          "MA",
          "MI",
          "MN",
          "MS",
          "MO",
          "MT",
          "NE",
          "NV",
          "NH",
          "NJ",
          "NM",
          "NY",
          "NC",
          "ND",
          "OH",
          "OK",
          "OR",
          "PA",
          "RI",
          "SC",
          "SD",
          "TN",
          "TX",
          "UT",
          "VT",
          "VA",
          "WA",
          "WV",
          "WI",
          "WY",
          "PR"
         ],
         "name": "",
         "type": "choropleth",
         "z": [
          4799069,
          722128,
          6472643,
          2940667,
          37638369,
          5121108,
          3588283,
          907381,
          619800,
          19053237,
          9802431,
          1379329,
          1583910,
          12867454,
          6516528,
          3066336,
          2869225,
          4369821,
          4575625,
          1328284,
          5839419,
          6613583,
          9882412,
          5346143,
          2978731,
          6010275,
          997316,
          1840672,
          2712730,
          1320202,
          8828117,
          2080450,
          19499241,
          9657592,
          685225,
          11544663,
          3788379,
          3872036,
          12745815,
          1053649,
          4671994,
          823579,
          6399291,
          25645629,
          2814384,
          627049,
          8101155,
          6826627,
          1856301,
          5705288,
          567299,
          3678732
         ]
        }
       ],
       "layout": {
        "autosize": true,
        "coloraxis": {
         "cmax": 37638369,
         "cmin": 0,
         "colorbar": {
          "title": {
           "text": "Population"
          }
         },
         "colorscale": [
          [
           0,
           "rgb(247,251,255)"
          ],
          [
           0.125,
           "rgb(222,235,247)"
          ],
          [
           0.25,
           "rgb(198,219,239)"
          ],
          [
           0.375,
           "rgb(158,202,225)"
          ],
          [
           0.5,
           "rgb(107,174,214)"
          ],
          [
           0.625,
           "rgb(66,146,198)"
          ],
          [
           0.75,
           "rgb(33,113,181)"
          ],
          [
           0.875,
           "rgb(8,81,156)"
          ],
          [
           1,
           "rgb(8,48,107)"
          ]
         ]
        },
        "geo": {
         "center": {
          "lat": 38.051727135643034,
          "lon": -104.45816136270348
         },
         "domain": {
          "x": [
           0,
           1
          ],
          "y": [
           0,
           1
          ]
         },
         "projection": {
          "scale": 1.6471820345351462
         },
         "scope": "usa"
        },
        "legend": {
         "tracegroupgap": 0
        },
        "margin": {
         "b": 0,
         "l": 0,
         "r": 0,
         "t": 0
        },
        "paper_bgcolor": "rgba(0, 0, 0, 0)",
        "plot_bgcolor": "rgba(0, 0, 0, 0)",
        "template": {
         "data": {
          "bar": [
           {
            "error_x": {
             "color": "#f2f5fa"
            },
            "error_y": {
             "color": "#f2f5fa"
            },
            "marker": {
             "line": {
              "color": "rgb(17,17,17)",
              "width": 0.5
             },
             "pattern": {
              "fillmode": "overlay",
              "size": 10,
              "solidity": 0.2
             }
            },
            "type": "bar"
           }
          ],
          "barpolar": [
           {
            "marker": {
             "line": {
              "color": "rgb(17,17,17)",
              "width": 0.5
             },
             "pattern": {
              "fillmode": "overlay",
              "size": 10,
              "solidity": 0.2
             }
            },
            "type": "barpolar"
           }
          ],
          "carpet": [
           {
            "aaxis": {
             "endlinecolor": "#A2B1C6",
             "gridcolor": "#506784",
             "linecolor": "#506784",
             "minorgridcolor": "#506784",
             "startlinecolor": "#A2B1C6"
            },
            "baxis": {
             "endlinecolor": "#A2B1C6",
             "gridcolor": "#506784",
             "linecolor": "#506784",
             "minorgridcolor": "#506784",
             "startlinecolor": "#A2B1C6"
            },
            "type": "carpet"
           }
          ],
          "choropleth": [
           {
            "colorbar": {
             "outlinewidth": 0,
             "ticks": ""
            },
            "type": "choropleth"
           }
          ],
          "contour": [
           {
            "colorbar": {
             "outlinewidth": 0,
             "ticks": ""
            },
            "colorscale": [
             [
              0,
              "#0d0887"
             ],
             [
              0.1111111111111111,
              "#46039f"
             ],
             [
              0.2222222222222222,
              "#7201a8"
             ],
             [
              0.3333333333333333,
              "#9c179e"
             ],
             [
              0.4444444444444444,
              "#bd3786"
             ],
             [
              0.5555555555555556,
              "#d8576b"
             ],
             [
              0.6666666666666666,
              "#ed7953"
             ],
             [
              0.7777777777777778,
              "#fb9f3a"
             ],
             [
              0.8888888888888888,
              "#fdca26"
             ],
             [
              1,
              "#f0f921"
             ]
            ],
            "type": "contour"
           }
          ],
          "contourcarpet": [
           {
            "colorbar": {
             "outlinewidth": 0,
             "ticks": ""
            },
            "type": "contourcarpet"
           }
          ],
          "heatmap": [
           {
            "colorbar": {
             "outlinewidth": 0,
             "ticks": ""
            },
            "colorscale": [
             [
              0,
              "#0d0887"
             ],
             [
              0.1111111111111111,
              "#46039f"
             ],
             [
              0.2222222222222222,
              "#7201a8"
             ],
             [
              0.3333333333333333,
              "#9c179e"
             ],
             [
              0.4444444444444444,
              "#bd3786"
             ],
             [
              0.5555555555555556,
              "#d8576b"
             ],
             [
              0.6666666666666666,
              "#ed7953"
             ],
             [
              0.7777777777777778,
              "#fb9f3a"
             ],
             [
              0.8888888888888888,
              "#fdca26"
             ],
             [
              1,
              "#f0f921"
             ]
            ],
            "type": "heatmap"
           }
          ],
          "heatmapgl": [
           {
            "colorbar": {
             "outlinewidth": 0,
             "ticks": ""
            },
            "colorscale": [
             [
              0,
              "#0d0887"
             ],
             [
              0.1111111111111111,
              "#46039f"
             ],
             [
              0.2222222222222222,
              "#7201a8"
             ],
             [
              0.3333333333333333,
              "#9c179e"
             ],
             [
              0.4444444444444444,
              "#bd3786"
             ],
             [
              0.5555555555555556,
              "#d8576b"
             ],
             [
              0.6666666666666666,
              "#ed7953"
             ],
             [
              0.7777777777777778,
              "#fb9f3a"
             ],
             [
              0.8888888888888888,
              "#fdca26"
             ],
             [
              1,
              "#f0f921"
             ]
            ],
            "type": "heatmapgl"
           }
          ],
          "histogram": [
           {
            "marker": {
             "pattern": {
              "fillmode": "overlay",
              "size": 10,
              "solidity": 0.2
             }
            },
            "type": "histogram"
           }
          ],
          "histogram2d": [
           {
            "colorbar": {
             "outlinewidth": 0,
             "ticks": ""
            },
            "colorscale": [
             [
              0,
              "#0d0887"
             ],
             [
              0.1111111111111111,
              "#46039f"
             ],
             [
              0.2222222222222222,
              "#7201a8"
             ],
             [
              0.3333333333333333,
              "#9c179e"
             ],
             [
              0.4444444444444444,
              "#bd3786"
             ],
             [
              0.5555555555555556,
              "#d8576b"
             ],
             [
              0.6666666666666666,
              "#ed7953"
             ],
             [
              0.7777777777777778,
              "#fb9f3a"
             ],
             [
              0.8888888888888888,
              "#fdca26"
             ],
             [
              1,
              "#f0f921"
             ]
            ],
            "type": "histogram2d"
           }
          ],
          "histogram2dcontour": [
           {
            "colorbar": {
             "outlinewidth": 0,
             "ticks": ""
            },
            "colorscale": [
             [
              0,
              "#0d0887"
             ],
             [
              0.1111111111111111,
              "#46039f"
             ],
             [
              0.2222222222222222,
              "#7201a8"
             ],
             [
              0.3333333333333333,
              "#9c179e"
             ],
             [
              0.4444444444444444,
              "#bd3786"
             ],
             [
              0.5555555555555556,
              "#d8576b"
             ],
             [
              0.6666666666666666,
              "#ed7953"
             ],
             [
              0.7777777777777778,
              "#fb9f3a"
             ],
             [
              0.8888888888888888,
              "#fdca26"
             ],
             [
              1,
              "#f0f921"
             ]
            ],
            "type": "histogram2dcontour"
           }
          ],
          "mesh3d": [
           {
            "colorbar": {
             "outlinewidth": 0,
             "ticks": ""
            },
            "type": "mesh3d"
           }
          ],
          "parcoords": [
           {
            "line": {
             "colorbar": {
              "outlinewidth": 0,
              "ticks": ""
             }
            },
            "type": "parcoords"
           }
          ],
          "pie": [
           {
            "automargin": true,
            "type": "pie"
           }
          ],
          "scatter": [
           {
            "marker": {
             "line": {
              "color": "#283442"
             }
            },
            "type": "scatter"
           }
          ],
          "scatter3d": [
           {
            "line": {
             "colorbar": {
              "outlinewidth": 0,
              "ticks": ""
             }
            },
            "marker": {
             "colorbar": {
              "outlinewidth": 0,
              "ticks": ""
             }
            },
            "type": "scatter3d"
           }
          ],
          "scattercarpet": [
           {
            "marker": {
             "colorbar": {
              "outlinewidth": 0,
              "ticks": ""
             }
            },
            "type": "scattercarpet"
           }
          ],
          "scattergeo": [
           {
            "marker": {
             "colorbar": {
              "outlinewidth": 0,
              "ticks": ""
             }
            },
            "type": "scattergeo"
           }
          ],
          "scattergl": [
           {
            "marker": {
             "line": {
              "color": "#283442"
             }
            },
            "type": "scattergl"
           }
          ],
          "scattermapbox": [
           {
            "marker": {
             "colorbar": {
              "outlinewidth": 0,
              "ticks": ""
             }
            },
            "type": "scattermapbox"
           }
          ],
          "scatterpolar": [
           {
            "marker": {
             "colorbar": {
              "outlinewidth": 0,
              "ticks": ""
             }
            },
            "type": "scatterpolar"
           }
          ],
          "scatterpolargl": [
           {
            "marker": {
             "colorbar": {
              "outlinewidth": 0,
              "ticks": ""
             }
            },
            "type": "scatterpolargl"
           }
          ],
          "scatterternary": [
           {
            "marker": {
             "colorbar": {
              "outlinewidth": 0,
              "ticks": ""
             }
            },
            "type": "scatterternary"
           }
          ],
          "surface": [
           {
            "colorbar": {
             "outlinewidth": 0,
             "ticks": ""
            },
            "colorscale": [
             [
              0,
              "#0d0887"
             ],
             [
              0.1111111111111111,
              "#46039f"
             ],
             [
              0.2222222222222222,
              "#7201a8"
             ],
             [
              0.3333333333333333,
              "#9c179e"
             ],
             [
              0.4444444444444444,
              "#bd3786"
             ],
             [
              0.5555555555555556,
              "#d8576b"
             ],
             [
              0.6666666666666666,
              "#ed7953"
             ],
             [
              0.7777777777777778,
              "#fb9f3a"
             ],
             [
              0.8888888888888888,
              "#fdca26"
             ],
             [
              1,
              "#f0f921"
             ]
            ],
            "type": "surface"
           }
          ],
          "table": [
           {
            "cells": {
             "fill": {
              "color": "#506784"
             },
             "line": {
              "color": "rgb(17,17,17)"
             }
            },
            "header": {
             "fill": {
              "color": "#2a3f5f"
             },
             "line": {
              "color": "rgb(17,17,17)"
             }
            },
            "type": "table"
           }
          ]
         },
         "layout": {
          "annotationdefaults": {
           "arrowcolor": "#f2f5fa",
           "arrowhead": 0,
           "arrowwidth": 1
          },
          "autotypenumbers": "strict",
          "coloraxis": {
           "colorbar": {
            "outlinewidth": 0,
            "ticks": ""
           }
          },
          "colorscale": {
           "diverging": [
            [
             0,
             "#8e0152"
            ],
            [
             0.1,
             "#c51b7d"
            ],
            [
             0.2,
             "#de77ae"
            ],
            [
             0.3,
             "#f1b6da"
            ],
            [
             0.4,
             "#fde0ef"
            ],
            [
             0.5,
             "#f7f7f7"
            ],
            [
             0.6,
             "#e6f5d0"
            ],
            [
             0.7,
             "#b8e186"
            ],
            [
             0.8,
             "#7fbc41"
            ],
            [
             0.9,
             "#4d9221"
            ],
            [
             1,
             "#276419"
            ]
           ],
           "sequential": [
            [
             0,
             "#0d0887"
            ],
            [
             0.1111111111111111,
             "#46039f"
            ],
            [
             0.2222222222222222,
             "#7201a8"
            ],
            [
             0.3333333333333333,
             "#9c179e"
            ],
            [
             0.4444444444444444,
             "#bd3786"
            ],
            [
             0.5555555555555556,
             "#d8576b"
            ],
            [
             0.6666666666666666,
             "#ed7953"
            ],
            [
             0.7777777777777778,
             "#fb9f3a"
            ],
            [
             0.8888888888888888,
             "#fdca26"
            ],
            [
             1,
             "#f0f921"
            ]
           ],
           "sequentialminus": [
            [
             0,
             "#0d0887"
            ],
            [
             0.1111111111111111,
             "#46039f"
            ],
            [
             0.2222222222222222,
             "#7201a8"
            ],
            [
             0.3333333333333333,
             "#9c179e"
            ],
            [
             0.4444444444444444,
             "#bd3786"
            ],
            [
             0.5555555555555556,
             "#d8576b"
            ],
            [
             0.6666666666666666,
             "#ed7953"
            ],
            [
             0.7777777777777778,
             "#fb9f3a"
            ],
            [
             0.8888888888888888,
             "#fdca26"
            ],
            [
             1,
             "#f0f921"
            ]
           ]
          },
          "colorway": [
           "#636efa",
           "#EF553B",
           "#00cc96",
           "#ab63fa",
           "#FFA15A",
           "#19d3f3",
           "#FF6692",
           "#B6E880",
           "#FF97FF",
           "#FECB52"
          ],
          "font": {
           "color": "#f2f5fa"
          },
          "geo": {
           "bgcolor": "rgb(17,17,17)",
           "lakecolor": "rgb(17,17,17)",
           "landcolor": "rgb(17,17,17)",
           "showlakes": true,
           "showland": true,
           "subunitcolor": "#506784"
          },
          "hoverlabel": {
           "align": "left"
          },
          "hovermode": "closest",
          "mapbox": {
           "style": "dark"
          },
          "paper_bgcolor": "rgb(17,17,17)",
          "plot_bgcolor": "rgb(17,17,17)",
          "polar": {
           "angularaxis": {
            "gridcolor": "#506784",
            "linecolor": "#506784",
            "ticks": ""
           },
           "bgcolor": "rgb(17,17,17)",
           "radialaxis": {
            "gridcolor": "#506784",
            "linecolor": "#506784",
            "ticks": ""
           }
          },
          "scene": {
           "xaxis": {
            "backgroundcolor": "rgb(17,17,17)",
            "gridcolor": "#506784",
            "gridwidth": 2,
            "linecolor": "#506784",
            "showbackground": true,
            "ticks": "",
            "zerolinecolor": "#C8D4E3"
           },
           "yaxis": {
            "backgroundcolor": "rgb(17,17,17)",
            "gridcolor": "#506784",
            "gridwidth": 2,
            "linecolor": "#506784",
            "showbackground": true,
            "ticks": "",
            "zerolinecolor": "#C8D4E3"
           },
           "zaxis": {
            "backgroundcolor": "rgb(17,17,17)",
            "gridcolor": "#506784",
            "gridwidth": 2,
            "linecolor": "#506784",
            "showbackground": true,
            "ticks": "",
            "zerolinecolor": "#C8D4E3"
           }
          },
          "shapedefaults": {
           "line": {
            "color": "#f2f5fa"
           }
          },
          "sliderdefaults": {
           "bgcolor": "#C8D4E3",
           "bordercolor": "rgb(17,17,17)",
           "borderwidth": 1,
           "tickwidth": 0
          },
          "ternary": {
           "aaxis": {
            "gridcolor": "#506784",
            "linecolor": "#506784",
            "ticks": ""
           },
           "baxis": {
            "gridcolor": "#506784",
            "linecolor": "#506784",
            "ticks": ""
           },
           "bgcolor": "rgb(17,17,17)",
           "caxis": {
            "gridcolor": "#506784",
            "linecolor": "#506784",
            "ticks": ""
           }
          },
          "title": {
           "x": 0.05
          },
          "updatemenudefaults": {
           "bgcolor": "#506784",
           "borderwidth": 0
          },
          "xaxis": {
           "automargin": true,
           "gridcolor": "#283442",
           "linecolor": "#506784",
           "ticks": "",
           "title": {
            "standoff": 15
           },
           "zerolinecolor": "#283442",
           "zerolinewidth": 2
          },
          "yaxis": {
           "automargin": true,
           "gridcolor": "#283442",
           "linecolor": "#506784",
           "ticks": "",
           "title": {
            "standoff": 15
           },
           "zerolinecolor": "#283442",
           "zerolinewidth": 2
          }
         }
        }
       }
      },
      "image/png": "[encoded data removed]",
      "text/html": [
       "<div>                            <div id=\"0987bd4c-da6d-4217-8d89-018d783f3702\" class=\"plotly-graph-div\" style=\"height:350px; width:100%;\"></div>            <script type=\"text/javascript\">                require([\"plotly\"], function(Plotly) {                    window.PLOTLYENV=window.PLOTLYENV || {};                                    if (document.getElementById(\"0987bd4c-da6d-4217-8d89-018d783f3702\")) {                    Plotly.newPlot(                        \"0987bd4c-da6d-4217-8d89-018d783f3702\",                        [{\"coloraxis\":\"coloraxis\",\"geo\":\"geo\",\"hovertemplate\":\"states_code=%{location}\\u003cbr\\u003ePopulation=%{z}\\u003cextra\\u003e\\u003c\\u002fextra\\u003e\",\"locationmode\":\"USA-states\",\"locations\":[\"AL\",\"AK\",\"AZ\",\"AR\",\"CA\",\"CO\",\"CT\",\"DE\",\"DC\",\"FL\",\"GA\",\"HI\",\"ID\",\"IL\",\"IN\",\"IA\",\"KS\",\"KY\",\"LA\",\"ME\",\"MD\",\"MA\",\"MI\",\"MN\",\"MS\",\"MO\",\"MT\",\"NE\",\"NV\",\"NH\",\"NJ\",\"NM\",\"NY\",\"NC\",\"ND\",\"OH\",\"OK\",\"OR\",\"PA\",\"RI\",\"SC\",\"SD\",\"TN\",\"TX\",\"UT\",\"VT\",\"VA\",\"WA\",\"WV\",\"WI\",\"WY\",\"PR\"],\"name\":\"\",\"z\":[4799069,722128,6472643,2940667,37638369,5121108,3588283,907381,619800,19053237,9802431,1379329,1583910,12867454,6516528,3066336,2869225,4369821,4575625,1328284,5839419,6613583,9882412,5346143,2978731,6010275,997316,1840672,2712730,1320202,8828117,2080450,19499241,9657592,685225,11544663,3788379,3872036,12745815,1053649,4671994,823579,6399291,25645629,2814384,627049,8101155,6826627,1856301,5705288,567299,3678732],\"type\":\"choropleth\"}],                        {\"template\":{\"data\":{\"barpolar\":[{\"marker\":{\"line\":{\"color\":\"rgb(17,17,17)\",\"width\":0.5},\"pattern\":{\"fillmode\":\"overlay\",\"size\":10,\"solidity\":0.2}},\"type\":\"barpolar\"}],\"bar\":[{\"error_x\":{\"color\":\"#f2f5fa\"},\"error_y\":{\"color\":\"#f2f5fa\"},\"marker\":{\"line\":{\"color\":\"rgb(17,17,17)\",\"width\":0.5},\"pattern\":{\"fillmode\":\"overlay\",\"size\":10,\"solidity\":0.2}},\"type\":\"bar\"}],\"carpet\":[{\"aaxis\":{\"endlinecolor\":\"#A2B1C6\",\"gridcolor\":\"#506784\",\"linecolor\":\"#506784\",\"minorgridcolor\":\"#506784\",\"startlinecolor\":\"#A2B1C6\"},\"baxis\":{\"endlinecolor\":\"#A2B1C6\",\"gridcolor\":\"#506784\",\"linecolor\":\"#506784\",\"minorgridcolor\":\"#506784\",\"startlinecolor\":\"#A2B1C6\"},\"type\":\"carpet\"}],\"choropleth\":[{\"colorbar\":{\"outlinewidth\":0,\"ticks\":\"\"},\"type\":\"choropleth\"}],\"contourcarpet\":[{\"colorbar\":{\"outlinewidth\":0,\"ticks\":\"\"},\"type\":\"contourcarpet\"}],\"contour\":[{\"colorbar\":{\"outlinewidth\":0,\"ticks\":\"\"},\"colorscale\":[[0.0,\"#0d0887\"],[0.1111111111111111,\"#46039f\"],[0.2222222222222222,\"#7201a8\"],[0.3333333333333333,\"#9c179e\"],[0.4444444444444444,\"#bd3786\"],[0.5555555555555556,\"#d8576b\"],[0.6666666666666666,\"#ed7953\"],[0.7777777777777778,\"#fb9f3a\"],[0.8888888888888888,\"#fdca26\"],[1.0,\"#f0f921\"]],\"type\":\"contour\"}],\"heatmapgl\":[{\"colorbar\":{\"outlinewidth\":0,\"ticks\":\"\"},\"colorscale\":[[0.0,\"#0d0887\"],[0.1111111111111111,\"#46039f\"],[0.2222222222222222,\"#7201a8\"],[0.3333333333333333,\"#9c179e\"],[0.4444444444444444,\"#bd3786\"],[0.5555555555555556,\"#d8576b\"],[0.6666666666666666,\"#ed7953\"],[0.7777777777777778,\"#fb9f3a\"],[0.8888888888888888,\"#fdca26\"],[1.0,\"#f0f921\"]],\"type\":\"heatmapgl\"}],\"heatmap\":[{\"colorbar\":{\"outlinewidth\":0,\"ticks\":\"\"},\"colorscale\":[[0.0,\"#0d0887\"],[0.1111111111111111,\"#46039f\"],[0.2222222222222222,\"#7201a8\"],[0.3333333333333333,\"#9c179e\"],[0.4444444444444444,\"#bd3786\"],[0.5555555555555556,\"#d8576b\"],[0.6666666666666666,\"#ed7953\"],[0.7777777777777778,\"#fb9f3a\"],[0.8888888888888888,\"#fdca26\"],[1.0,\"#f0f921\"]],\"type\":\"heatmap\"}],\"histogram2dcontour\":[{\"colorbar\":{\"outlinewidth\":0,\"ticks\":\"\"},\"colorscale\":[[0.0,\"#0d0887\"],[0.1111111111111111,\"#46039f\"],[0.2222222222222222,\"#7201a8\"],[0.3333333333333333,\"#9c179e\"],[0.4444444444444444,\"#bd3786\"],[0.5555555555555556,\"#d8576b\"],[0.6666666666666666,\"#ed7953\"],[0.7777777777777778,\"#fb9f3a\"],[0.8888888888888888,\"#fdca26\"],[1.0,\"#f0f921\"]],\"type\":\"histogram2dcontour\"}],\"histogram2d\":[{\"colorbar\":{\"outlinewidth\":0,\"ticks\":\"\"},\"colorscale\":[[0.0,\"#0d0887\"],[0.1111111111111111,\"#46039f\"],[0.2222222222222222,\"#7201a8\"],[0.3333333333333333,\"#9c179e\"],[0.4444444444444444,\"#bd3786\"],[0.5555555555555556,\"#d8576b\"],[0.6666666666666666,\"#ed7953\"],[0.7777777777777778,\"#fb9f3a\"],[0.8888888888888888,\"#fdca26\"],[1.0,\"#f0f921\"]],\"type\":\"histogram2d\"}],\"histogram\":[{\"marker\":{\"pattern\":{\"fillmode\":\"overlay\",\"size\":10,\"solidity\":0.2}},\"type\":\"histogram\"}],\"mesh3d\":[{\"colorbar\":{\"outlinewidth\":0,\"ticks\":\"\"},\"type\":\"mesh3d\"}],\"parcoords\":[{\"line\":{\"colorbar\":{\"outlinewidth\":0,\"ticks\":\"\"}},\"type\":\"parcoords\"}],\"pie\":[{\"automargin\":true,\"type\":\"pie\"}],\"scatter3d\":[{\"line\":{\"colorbar\":{\"outlinewidth\":0,\"ticks\":\"\"}},\"marker\":{\"colorbar\":{\"outlinewidth\":0,\"ticks\":\"\"}},\"type\":\"scatter3d\"}],\"scattercarpet\":[{\"marker\":{\"colorbar\":{\"outlinewidth\":0,\"ticks\":\"\"}},\"type\":\"scattercarpet\"}],\"scattergeo\":[{\"marker\":{\"colorbar\":{\"outlinewidth\":0,\"ticks\":\"\"}},\"type\":\"scattergeo\"}],\"scattergl\":[{\"marker\":{\"line\":{\"color\":\"#283442\"}},\"type\":\"scattergl\"}],\"scattermapbox\":[{\"marker\":{\"colorbar\":{\"outlinewidth\":0,\"ticks\":\"\"}},\"type\":\"scattermapbox\"}],\"scatterpolargl\":[{\"marker\":{\"colorbar\":{\"outlinewidth\":0,\"ticks\":\"\"}},\"type\":\"scatterpolargl\"}],\"scatterpolar\":[{\"marker\":{\"colorbar\":{\"outlinewidth\":0,\"ticks\":\"\"}},\"type\":\"scatterpolar\"}],\"scatter\":[{\"marker\":{\"line\":{\"color\":\"#283442\"}},\"type\":\"scatter\"}],\"scatterternary\":[{\"marker\":{\"colorbar\":{\"outlinewidth\":0,\"ticks\":\"\"}},\"type\":\"scatterternary\"}],\"surface\":[{\"colorbar\":{\"outlinewidth\":0,\"ticks\":\"\"},\"colorscale\":[[0.0,\"#0d0887\"],[0.1111111111111111,\"#46039f\"],[0.2222222222222222,\"#7201a8\"],[0.3333333333333333,\"#9c179e\"],[0.4444444444444444,\"#bd3786\"],[0.5555555555555556,\"#d8576b\"],[0.6666666666666666,\"#ed7953\"],[0.7777777777777778,\"#fb9f3a\"],[0.8888888888888888,\"#fdca26\"],[1.0,\"#f0f921\"]],\"type\":\"surface\"}],\"table\":[{\"cells\":{\"fill\":{\"color\":\"#506784\"},\"line\":{\"color\":\"rgb(17,17,17)\"}},\"header\":{\"fill\":{\"color\":\"#2a3f5f\"},\"line\":{\"color\":\"rgb(17,17,17)\"}},\"type\":\"table\"}]},\"layout\":{\"annotationdefaults\":{\"arrowcolor\":\"#f2f5fa\",\"arrowhead\":0,\"arrowwidth\":1},\"autotypenumbers\":\"strict\",\"coloraxis\":{\"colorbar\":{\"outlinewidth\":0,\"ticks\":\"\"}},\"colorscale\":{\"diverging\":[[0,\"#8e0152\"],[0.1,\"#c51b7d\"],[0.2,\"#de77ae\"],[0.3,\"#f1b6da\"],[0.4,\"#fde0ef\"],[0.5,\"#f7f7f7\"],[0.6,\"#e6f5d0\"],[0.7,\"#b8e186\"],[0.8,\"#7fbc41\"],[0.9,\"#4d9221\"],[1,\"#276419\"]],\"sequential\":[[0.0,\"#0d0887\"],[0.1111111111111111,\"#46039f\"],[0.2222222222222222,\"#7201a8\"],[0.3333333333333333,\"#9c179e\"],[0.4444444444444444,\"#bd3786\"],[0.5555555555555556,\"#d8576b\"],[0.6666666666666666,\"#ed7953\"],[0.7777777777777778,\"#fb9f3a\"],[0.8888888888888888,\"#fdca26\"],[1.0,\"#f0f921\"]],\"sequentialminus\":[[0.0,\"#0d0887\"],[0.1111111111111111,\"#46039f\"],[0.2222222222222222,\"#7201a8\"],[0.3333333333333333,\"#9c179e\"],[0.4444444444444444,\"#bd3786\"],[0.5555555555555556,\"#d8576b\"],[0.6666666666666666,\"#ed7953\"],[0.7777777777777778,\"#fb9f3a\"],[0.8888888888888888,\"#fdca26\"],[1.0,\"#f0f921\"]]},\"colorway\":[\"#636efa\",\"#EF553B\",\"#00cc96\",\"#ab63fa\",\"#FFA15A\",\"#19d3f3\",\"#FF6692\",\"#B6E880\",\"#FF97FF\",\"#FECB52\"],\"font\":{\"color\":\"#f2f5fa\"},\"geo\":{\"bgcolor\":\"rgb(17,17,17)\",\"lakecolor\":\"rgb(17,17,17)\",\"landcolor\":\"rgb(17,17,17)\",\"showlakes\":true,\"showland\":true,\"subunitcolor\":\"#506784\"},\"hoverlabel\":{\"align\":\"left\"},\"hovermode\":\"closest\",\"mapbox\":{\"style\":\"dark\"},\"paper_bgcolor\":\"rgb(17,17,17)\",\"plot_bgcolor\":\"rgb(17,17,17)\",\"polar\":{\"angularaxis\":{\"gridcolor\":\"#506784\",\"linecolor\":\"#506784\",\"ticks\":\"\"},\"bgcolor\":\"rgb(17,17,17)\",\"radialaxis\":{\"gridcolor\":\"#506784\",\"linecolor\":\"#506784\",\"ticks\":\"\"}},\"scene\":{\"xaxis\":{\"backgroundcolor\":\"rgb(17,17,17)\",\"gridcolor\":\"#506784\",\"gridwidth\":2,\"linecolor\":\"#506784\",\"showbackground\":true,\"ticks\":\"\",\"zerolinecolor\":\"#C8D4E3\"},\"yaxis\":{\"backgroundcolor\":\"rgb(17,17,17)\",\"gridcolor\":\"#506784\",\"gridwidth\":2,\"linecolor\":\"#506784\",\"showbackground\":true,\"ticks\":\"\",\"zerolinecolor\":\"#C8D4E3\"},\"zaxis\":{\"backgroundcolor\":\"rgb(17,17,17)\",\"gridcolor\":\"#506784\",\"gridwidth\":2,\"linecolor\":\"#506784\",\"showbackground\":true,\"ticks\":\"\",\"zerolinecolor\":\"#C8D4E3\"}},\"shapedefaults\":{\"line\":{\"color\":\"#f2f5fa\"}},\"sliderdefaults\":{\"bgcolor\":\"#C8D4E3\",\"bordercolor\":\"rgb(17,17,17)\",\"borderwidth\":1,\"tickwidth\":0},\"ternary\":{\"aaxis\":{\"gridcolor\":\"#506784\",\"linecolor\":\"#506784\",\"ticks\":\"\"},\"baxis\":{\"gridcolor\":\"#506784\",\"linecolor\":\"#506784\",\"ticks\":\"\"},\"bgcolor\":\"rgb(17,17,17)\",\"caxis\":{\"gridcolor\":\"#506784\",\"linecolor\":\"#506784\",\"ticks\":\"\"}},\"title\":{\"x\":0.05},\"updatemenudefaults\":{\"bgcolor\":\"#506784\",\"borderwidth\":0},\"xaxis\":{\"automargin\":true,\"gridcolor\":\"#283442\",\"linecolor\":\"#506784\",\"ticks\":\"\",\"title\":{\"standoff\":15},\"zerolinecolor\":\"#283442\",\"zerolinewidth\":2},\"yaxis\":{\"automargin\":true,\"gridcolor\":\"#283442\",\"linecolor\":\"#506784\",\"ticks\":\"\",\"title\":{\"standoff\":15},\"zerolinecolor\":\"#283442\",\"zerolinewidth\":2}}},\"geo\":{\"domain\":{\"x\":[0.0,1.0],\"y\":[0.0,1.0]},\"center\":{},\"scope\":\"usa\"},\"coloraxis\":{\"colorbar\":{\"title\":{\"text\":\"Population\"}},\"colorscale\":[[0.0,\"rgb(247,251,255)\"],[0.125,\"rgb(222,235,247)\"],[0.25,\"rgb(198,219,239)\"],[0.375,\"rgb(158,202,225)\"],[0.5,\"rgb(107,174,214)\"],[0.625,\"rgb(66,146,198)\"],[0.75,\"rgb(33,113,181)\"],[0.875,\"rgb(8,81,156)\"],[1.0,\"rgb(8,48,107)\"]],\"cmin\":0,\"cmax\":37638369},\"legend\":{\"tracegroupgap\":0},\"margin\":{\"t\":0,\"l\":0,\"r\":0,\"b\":0},\"plot_bgcolor\":\"rgba(0, 0, 0, 0)\",\"paper_bgcolor\":\"rgba(0, 0, 0, 0)\",\"height\":350},                        {\"responsive\": true}                    ).then(function(){\n",
       "                            \n",
       "var gd = document.getElementById('0987bd4c-da6d-4217-8d89-018d783f3702');\n",
       "var x = new MutationObserver(function (mutations, observer) {{\n",
       "        var display = window.getComputedStyle(gd).display;\n",
       "        if (!display || display === 'none') {{\n",
       "            console.log([gd, 'removed!']);\n",
       "            Plotly.purge(gd);\n",
       "            observer.disconnect();\n",
       "        }}\n",
       "}});\n",
       "\n",
       "// Listen for the removal of the full notebook cells\n",
       "var notebookContainer = gd.closest('#notebook-container');\n",
       "if (notebookContainer) {{\n",
       "    x.observe(notebookContainer, {childList: true});\n",
       "}}\n",
       "\n",
       "// Listen for the clearing of the current output cell\n",
       "var outputEl = gd.closest('.output');\n",
       "if (outputEl) {{\n",
       "    x.observe(outputEl, {childList: true});\n",
       "}}\n",
       "\n",
       "                        })                };                });            </script>        </div>"
      ]
     },
     "metadata": {},
     "output_type": "display_data"
    }
   ],
   "source": [
    "df_selected_year = df_reshaped[df_reshaped.year == 2011]\n",
    "choropleth = make_choropleth(df_selected_year, 'states_code', 'population', 'blues')\n",
    "choropleth"
   ]
  },
  {
   "cell_type": "code",
   "execution_count": null,
   "id": "75d6a7d3-48fe-4d66-9975-6a7b2474700e",
   "metadata": {},
   "outputs": [],
   "source": []
  }
 ],
 "metadata": {
  "kernelspec": {
   "display_name": "Python 3 (ipykernel)",
   "language": "python",
   "name": "python3"
  },
  "language_info": {
   "codemirror_mode": {
    "name": "ipython",
    "version": 3
   },
   "file_extension": ".py",
   "mimetype": "text/x-python",
   "name": "python",
   "nbconvert_exporter": "python",
   "pygments_lexer": "ipython3",
   "version": "3.11.6"
  }
 },
 "nbformat": 4,
 "nbformat_minor": 5
}
